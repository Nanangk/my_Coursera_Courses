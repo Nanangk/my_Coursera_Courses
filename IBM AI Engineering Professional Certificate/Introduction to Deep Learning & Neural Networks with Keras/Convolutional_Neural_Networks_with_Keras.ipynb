{
  "nbformat": 4,
  "nbformat_minor": 0,
  "metadata": {
    "kernelspec": {
      "display_name": "Python",
      "language": "python",
      "name": "conda-env-python-py"
    },
    "language_info": {
      "codemirror_mode": {
        "name": "ipython",
        "version": 3
      },
      "file_extension": ".py",
      "mimetype": "text/x-python",
      "name": "python",
      "nbconvert_exporter": "python",
      "pygments_lexer": "ipython3",
      "version": "3.6.7"
    },
    "colab": {
      "name": "Convolutional Neural Networks with Keras.ipynb",
      "provenance": []
    }
  },
  "cells": [
    {
      "cell_type": "markdown",
      "metadata": {
        "id": "SKgknsGMkL2d",
        "colab_type": "text"
      },
      "source": [
        "<a href=\"https://cognitiveclass.ai\"><img src = \"https://s3-api.us-geo.objectstorage.softlayer.net/cf-courses-data/CognitiveClass/Logos/organization_logo/organization_logo.png\" width = 400> </a>\n",
        "\n",
        "<h1 align=center><font size = 5>Convolutional Neural Networks with Keras</font></h1>"
      ]
    },
    {
      "cell_type": "markdown",
      "metadata": {
        "id": "YRW7MWnakL2g",
        "colab_type": "text"
      },
      "source": [
        "In this lab, we will learn how to use the Keras library to build convolutional neural networks. We will also use the popular MNIST dataset and we will compare our results to using a conventional neural network.\n"
      ]
    },
    {
      "cell_type": "markdown",
      "metadata": {
        "id": "v5lHdeKQkL2i",
        "colab_type": "text"
      },
      "source": [
        "## Table of Contents\n",
        "\n",
        "<div class=\"alert alert-block alert-info\" style=\"margin-top: 20px\">\n",
        "\n",
        "<font size = 3>\n",
        "      \n",
        "1. <a href=\"#item41\">Import Keras and Packages</a>   \n",
        "2. <a href=\"#item42\">Convolutional Neural Network with One Convolutional and Pooling Layers</a>  \n",
        "3. <a href=\"#item43\">Convolutional Neural Network with Two Convolutional and Pooling Layers</a>  \n",
        "\n",
        "</font>\n",
        "</div>"
      ]
    },
    {
      "cell_type": "markdown",
      "metadata": {
        "id": "ys873raqkL2k",
        "colab_type": "text"
      },
      "source": [
        "<a id='item41'></a>"
      ]
    },
    {
      "cell_type": "markdown",
      "metadata": {
        "id": "5z4OF4nlkL2m",
        "colab_type": "text"
      },
      "source": [
        "## Import Keras and Packages"
      ]
    },
    {
      "cell_type": "markdown",
      "metadata": {
        "id": "WWza2RmFkL2o",
        "colab_type": "text"
      },
      "source": [
        "Let's start by importing the keras libraries and the packages that we would need to build a neural network."
      ]
    },
    {
      "cell_type": "code",
      "metadata": {
        "id": "xJC1MdQNkL2r",
        "colab_type": "code",
        "colab": {
          "base_uri": "https://localhost:8080/",
          "height": 33
        },
        "outputId": "2e5e75c3-0d56-42c3-b510-46eb5853c50f"
      },
      "source": [
        "import keras\n",
        "from keras.models import Sequential\n",
        "from keras.layers import Dense\n",
        "from keras.utils import to_categorical"
      ],
      "execution_count": 1,
      "outputs": [
        {
          "output_type": "stream",
          "text": [
            "Using TensorFlow backend.\n"
          ],
          "name": "stderr"
        }
      ]
    },
    {
      "cell_type": "markdown",
      "metadata": {
        "id": "g3pIwIQ3kL29",
        "colab_type": "text"
      },
      "source": [
        "When working with convolutional neural networks in particular, we will need additional packages."
      ]
    },
    {
      "cell_type": "code",
      "metadata": {
        "id": "gMniVzpFkL2_",
        "colab_type": "code",
        "colab": {}
      },
      "source": [
        "from keras.layers.convolutional import Conv2D # to add convolutional layers\n",
        "from keras.layers.convolutional import MaxPooling2D # to add pooling layers\n",
        "from keras.layers import Flatten # to flatten data for fully connected layers"
      ],
      "execution_count": 2,
      "outputs": []
    },
    {
      "cell_type": "markdown",
      "metadata": {
        "id": "bIr4JiOFkL3G",
        "colab_type": "text"
      },
      "source": [
        "<a id='item42'></a>"
      ]
    },
    {
      "cell_type": "markdown",
      "metadata": {
        "id": "4RpPf3eEkL3H",
        "colab_type": "text"
      },
      "source": [
        "## Convolutional Layer with One set of convolutional and pooling layers"
      ]
    },
    {
      "cell_type": "code",
      "metadata": {
        "id": "Ybhh1jA3kL3J",
        "colab_type": "code",
        "colab": {
          "base_uri": "https://localhost:8080/",
          "height": 50
        },
        "outputId": "00fe040d-e746-490e-8fe1-340f9a9de937"
      },
      "source": [
        "# import data\n",
        "from keras.datasets import mnist\n",
        "\n",
        "# load data\n",
        "(X_train, y_train), (X_test, y_test) = mnist.load_data()\n",
        "\n",
        "# reshape to be [samples][pixels][width][height]\n",
        "X_train = X_train.reshape(X_train.shape[0], 28, 28, 1).astype('float32')\n",
        "X_test = X_test.reshape(X_test.shape[0], 28, 28, 1).astype('float32')"
      ],
      "execution_count": 3,
      "outputs": [
        {
          "output_type": "stream",
          "text": [
            "Downloading data from https://s3.amazonaws.com/img-datasets/mnist.npz\n",
            "11493376/11490434 [==============================] - 0s 0us/step\n"
          ],
          "name": "stdout"
        }
      ]
    },
    {
      "cell_type": "markdown",
      "metadata": {
        "id": "zb_L9qhxkL3T",
        "colab_type": "text"
      },
      "source": [
        "Let's normalize the pixel values to be between 0 and 1"
      ]
    },
    {
      "cell_type": "code",
      "metadata": {
        "id": "A0JQREyskL3U",
        "colab_type": "code",
        "colab": {}
      },
      "source": [
        "X_train = X_train / 255 # normalize training data\n",
        "X_test = X_test / 255 # normalize test data"
      ],
      "execution_count": 4,
      "outputs": []
    },
    {
      "cell_type": "markdown",
      "metadata": {
        "id": "d_2VohqekL3h",
        "colab_type": "text"
      },
      "source": [
        "Next, let's convert the target variable into binary categories"
      ]
    },
    {
      "cell_type": "code",
      "metadata": {
        "id": "ha7AQjJDkL3k",
        "colab_type": "code",
        "colab": {}
      },
      "source": [
        "y_train = to_categorical(y_train)\n",
        "y_test = to_categorical(y_test)\n",
        "\n",
        "num_classes = y_test.shape[1] # number of categories"
      ],
      "execution_count": 5,
      "outputs": []
    },
    {
      "cell_type": "markdown",
      "metadata": {
        "id": "ca9HAxGkkL3-",
        "colab_type": "text"
      },
      "source": [
        "Next, let's define a function that creates our model. Let's start with one set of convolutional and pooling layers."
      ]
    },
    {
      "cell_type": "code",
      "metadata": {
        "id": "kmo6pacgkL3_",
        "colab_type": "code",
        "colab": {}
      },
      "source": [
        "def convolutional_model():\n",
        "    \n",
        "    # create model\n",
        "    model = Sequential()\n",
        "    model.add(Conv2D(16, (5, 5), strides=(1, 1), activation='relu', input_shape=(28, 28, 1)))\n",
        "    model.add(MaxPooling2D(pool_size=(2, 2), strides=(2, 2)))\n",
        "    \n",
        "    model.add(Flatten())\n",
        "    model.add(Dense(100, activation='relu'))\n",
        "    model.add(Dense(num_classes, activation='softmax'))\n",
        "    \n",
        "    # compile model\n",
        "    model.compile(optimizer='adam', loss='categorical_crossentropy',  metrics=['accuracy'])\n",
        "    return model"
      ],
      "execution_count": 6,
      "outputs": []
    },
    {
      "cell_type": "markdown",
      "metadata": {
        "id": "kd_q0b6ykL4J",
        "colab_type": "text"
      },
      "source": [
        "Finally, let's call the function to create the model, and then let's train it and evaluate it."
      ]
    },
    {
      "cell_type": "code",
      "metadata": {
        "id": "N4HCMSaIkL4O",
        "colab_type": "code",
        "colab": {
          "base_uri": "https://localhost:8080/",
          "height": 401
        },
        "outputId": "b0d75567-2ee2-4682-f1e8-66e990e96067"
      },
      "source": [
        "# build the model\n",
        "model = convolutional_model()\n",
        "\n",
        "# fit the model\n",
        "model.fit(X_train, y_train, validation_data=(X_test, y_test), epochs=10, batch_size=200, verbose=2)\n",
        "\n",
        "# evaluate the model\n",
        "scores = model.evaluate(X_test, y_test, verbose=0)\n",
        "print(\"Accuracy: {} \\n Error: {}\".format(scores[1], 100-scores[1]*100))"
      ],
      "execution_count": 7,
      "outputs": [
        {
          "output_type": "stream",
          "text": [
            "Train on 60000 samples, validate on 10000 samples\n",
            "Epoch 1/10\n",
            " - 19s - loss: 0.2938 - accuracy: 0.9183 - val_loss: 0.1042 - val_accuracy: 0.9700\n",
            "Epoch 2/10\n",
            " - 18s - loss: 0.0912 - accuracy: 0.9730 - val_loss: 0.0677 - val_accuracy: 0.9783\n",
            "Epoch 3/10\n",
            " - 18s - loss: 0.0618 - accuracy: 0.9812 - val_loss: 0.0573 - val_accuracy: 0.9821\n",
            "Epoch 4/10\n",
            " - 18s - loss: 0.0481 - accuracy: 0.9854 - val_loss: 0.0514 - val_accuracy: 0.9834\n",
            "Epoch 5/10\n",
            " - 18s - loss: 0.0398 - accuracy: 0.9880 - val_loss: 0.0481 - val_accuracy: 0.9834\n",
            "Epoch 6/10\n",
            " - 19s - loss: 0.0329 - accuracy: 0.9897 - val_loss: 0.0462 - val_accuracy: 0.9845\n",
            "Epoch 7/10\n",
            " - 18s - loss: 0.0271 - accuracy: 0.9915 - val_loss: 0.0408 - val_accuracy: 0.9870\n",
            "Epoch 8/10\n",
            " - 18s - loss: 0.0233 - accuracy: 0.9928 - val_loss: 0.0395 - val_accuracy: 0.9871\n",
            "Epoch 9/10\n",
            " - 18s - loss: 0.0197 - accuracy: 0.9937 - val_loss: 0.0425 - val_accuracy: 0.9868\n",
            "Epoch 10/10\n",
            " - 18s - loss: 0.0165 - accuracy: 0.9948 - val_loss: 0.0397 - val_accuracy: 0.9885\n",
            "Accuracy: 0.9884999990463257 \n",
            " Error: 1.1500000953674316\n"
          ],
          "name": "stdout"
        }
      ]
    },
    {
      "cell_type": "markdown",
      "metadata": {
        "id": "5-k66mPTkL4V",
        "colab_type": "text"
      },
      "source": [
        "------------------------------------------"
      ]
    },
    {
      "cell_type": "markdown",
      "metadata": {
        "id": "NXO4FZJzkL4W",
        "colab_type": "text"
      },
      "source": [
        "<a id='item43'></a>"
      ]
    },
    {
      "cell_type": "markdown",
      "metadata": {
        "id": "g3HdDGOCkL4X",
        "colab_type": "text"
      },
      "source": [
        "## Convolutional Layer with two sets of convolutional and pooling layers"
      ]
    },
    {
      "cell_type": "markdown",
      "metadata": {
        "id": "7EQF0LHbkL4X",
        "colab_type": "text"
      },
      "source": [
        "Let's redefine our convolutional model so that it has two convolutional and pooling layers instead of just one layer of each."
      ]
    },
    {
      "cell_type": "code",
      "metadata": {
        "id": "Ij5uCW0ZkL4Y",
        "colab_type": "code",
        "colab": {}
      },
      "source": [
        "def convolutional_model():\n",
        "    \n",
        "    # create model\n",
        "    model = Sequential()\n",
        "    model.add(Conv2D(16, (5, 5), activation='relu', input_shape=(28, 28, 1)))\n",
        "    model.add(MaxPooling2D(pool_size=(2, 2), strides=(2, 2)))\n",
        "    \n",
        "    model.add(Conv2D(8, (2, 2), activation='relu'))\n",
        "    model.add(MaxPooling2D(pool_size=(2, 2), strides=(2, 2)))\n",
        "    \n",
        "    model.add(Flatten())\n",
        "    model.add(Dense(100, activation='relu'))\n",
        "    model.add(Dense(num_classes, activation='softmax'))\n",
        "    \n",
        "    # Compile model\n",
        "    model.compile(optimizer='adam', loss='categorical_crossentropy',  metrics=['accuracy'])\n",
        "    return model"
      ],
      "execution_count": 8,
      "outputs": []
    },
    {
      "cell_type": "markdown",
      "metadata": {
        "id": "WZPyC7ZykL4f",
        "colab_type": "text"
      },
      "source": [
        "Now, let's call the function to create our new convolutional neural network, and then let's train it and evaluate it."
      ]
    },
    {
      "cell_type": "code",
      "metadata": {
        "id": "TeJJkVIwkL4g",
        "colab_type": "code",
        "colab": {
          "base_uri": "https://localhost:8080/",
          "height": 401
        },
        "outputId": "4a51db7b-bf4a-4fca-b57b-0b878db78ca7"
      },
      "source": [
        "# build the model\n",
        "model = convolutional_model()\n",
        "\n",
        "# fit the model\n",
        "model.fit(X_train, y_train, validation_data=(X_test, y_test), epochs=10, batch_size=200, verbose=2)\n",
        "\n",
        "# evaluate the model\n",
        "scores = model.evaluate(X_test, y_test, verbose=0)\n",
        "print(\"Accuracy: {} \\n Error: {}\".format(scores[1], 100-scores[1]*100))"
      ],
      "execution_count": 9,
      "outputs": [
        {
          "output_type": "stream",
          "text": [
            "Train on 60000 samples, validate on 10000 samples\n",
            "Epoch 1/10\n",
            " - 20s - loss: 0.4786 - accuracy: 0.8661 - val_loss: 0.1220 - val_accuracy: 0.9632\n",
            "Epoch 2/10\n",
            " - 20s - loss: 0.1073 - accuracy: 0.9680 - val_loss: 0.0780 - val_accuracy: 0.9755\n",
            "Epoch 3/10\n",
            " - 20s - loss: 0.0783 - accuracy: 0.9761 - val_loss: 0.0618 - val_accuracy: 0.9806\n",
            "Epoch 4/10\n",
            " - 20s - loss: 0.0630 - accuracy: 0.9810 - val_loss: 0.0597 - val_accuracy: 0.9786\n",
            "Epoch 5/10\n",
            " - 20s - loss: 0.0532 - accuracy: 0.9839 - val_loss: 0.0507 - val_accuracy: 0.9828\n",
            "Epoch 6/10\n",
            " - 19s - loss: 0.0458 - accuracy: 0.9864 - val_loss: 0.0437 - val_accuracy: 0.9860\n",
            "Epoch 7/10\n",
            " - 20s - loss: 0.0406 - accuracy: 0.9880 - val_loss: 0.0476 - val_accuracy: 0.9850\n",
            "Epoch 8/10\n",
            " - 20s - loss: 0.0363 - accuracy: 0.9891 - val_loss: 0.0392 - val_accuracy: 0.9869\n",
            "Epoch 9/10\n",
            " - 19s - loss: 0.0329 - accuracy: 0.9901 - val_loss: 0.0381 - val_accuracy: 0.9875\n",
            "Epoch 10/10\n",
            " - 19s - loss: 0.0306 - accuracy: 0.9905 - val_loss: 0.0397 - val_accuracy: 0.9872\n",
            "Accuracy: 0.9872000217437744 \n",
            " Error: 1.2799978256225586\n"
          ],
          "name": "stdout"
        }
      ]
    },
    {
      "cell_type": "markdown",
      "metadata": {
        "id": "49OYZwfFkL4k",
        "colab_type": "text"
      },
      "source": [
        "### Thank you for completing this lab!\n",
        "\n",
        "This notebook was created by [Alex Aklson](https://www.linkedin.com/in/aklson/). I hope you found this lab interesting and educational. Feel free to contact me if you have any questions!"
      ]
    },
    {
      "cell_type": "markdown",
      "metadata": {
        "id": "eS6vZ0p6kL4l",
        "colab_type": "text"
      },
      "source": [
        "This notebook is part of a course on **Coursera** called *Introduction to Deep Learning & Neural Networks with Keras*. If you accessed this notebook outside the course, you can take this course online by clicking [here](https://cocl.us/DL0101EN_Coursera_Week4_LAB1)."
      ]
    },
    {
      "cell_type": "markdown",
      "metadata": {
        "id": "e9ITG4fhkL4m",
        "colab_type": "text"
      },
      "source": [
        "<hr>\n",
        "\n",
        "Copyright &copy; 2019 [IBM Developer Skills Network](https://cognitiveclass.ai/?utm_source=bducopyrightlink&utm_medium=dswb&utm_campaign=bdu). This notebook and its source code are released under the terms of the [MIT License](https://bigdatauniversity.com/mit-license/)."
      ]
    }
  ]
}