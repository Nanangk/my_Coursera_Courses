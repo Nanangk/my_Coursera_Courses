{
  "nbformat": 4,
  "nbformat_minor": 0,
  "metadata": {
    "colab": {
      "name": "Part A.ipynb",
      "provenance": []
    },
    "kernelspec": {
      "name": "python3",
      "display_name": "Python 3"
    }
  },
  "cells": [
    {
      "cell_type": "markdown",
      "metadata": {
        "id": "2GMI2NHvsxib",
        "colab_type": "text"
      },
      "source": [
        "Download and Clean Dataset"
      ]
    },
    {
      "cell_type": "code",
      "metadata": {
        "id": "J6WsZoBPs1oE",
        "colab_type": "code",
        "colab": {}
      },
      "source": [
        "import pandas as pd\n",
        "import numpy as np"
      ],
      "execution_count": 2,
      "outputs": []
    },
    {
      "cell_type": "code",
      "metadata": {
        "id": "cuLGJJVGs4IE",
        "colab_type": "code",
        "colab": {
          "base_uri": "https://localhost:8080/",
          "height": 196
        },
        "outputId": "67186549-64e9-4240-9741-51a21ae7f19e"
      },
      "source": [
        "concrete_data = pd.read_csv('https://s3-api.us-geo.objectstorage.softlayer.net/cf-courses-data/CognitiveClass/DL0101EN/labs/data/concrete_data.csv')\n",
        "concrete_data.head()"
      ],
      "execution_count": 3,
      "outputs": [
        {
          "output_type": "execute_result",
          "data": {
            "text/html": [
              "<div>\n",
              "<style scoped>\n",
              "    .dataframe tbody tr th:only-of-type {\n",
              "        vertical-align: middle;\n",
              "    }\n",
              "\n",
              "    .dataframe tbody tr th {\n",
              "        vertical-align: top;\n",
              "    }\n",
              "\n",
              "    .dataframe thead th {\n",
              "        text-align: right;\n",
              "    }\n",
              "</style>\n",
              "<table border=\"1\" class=\"dataframe\">\n",
              "  <thead>\n",
              "    <tr style=\"text-align: right;\">\n",
              "      <th></th>\n",
              "      <th>Cement</th>\n",
              "      <th>Blast Furnace Slag</th>\n",
              "      <th>Fly Ash</th>\n",
              "      <th>Water</th>\n",
              "      <th>Superplasticizer</th>\n",
              "      <th>Coarse Aggregate</th>\n",
              "      <th>Fine Aggregate</th>\n",
              "      <th>Age</th>\n",
              "      <th>Strength</th>\n",
              "    </tr>\n",
              "  </thead>\n",
              "  <tbody>\n",
              "    <tr>\n",
              "      <th>0</th>\n",
              "      <td>540.0</td>\n",
              "      <td>0.0</td>\n",
              "      <td>0.0</td>\n",
              "      <td>162.0</td>\n",
              "      <td>2.5</td>\n",
              "      <td>1040.0</td>\n",
              "      <td>676.0</td>\n",
              "      <td>28</td>\n",
              "      <td>79.99</td>\n",
              "    </tr>\n",
              "    <tr>\n",
              "      <th>1</th>\n",
              "      <td>540.0</td>\n",
              "      <td>0.0</td>\n",
              "      <td>0.0</td>\n",
              "      <td>162.0</td>\n",
              "      <td>2.5</td>\n",
              "      <td>1055.0</td>\n",
              "      <td>676.0</td>\n",
              "      <td>28</td>\n",
              "      <td>61.89</td>\n",
              "    </tr>\n",
              "    <tr>\n",
              "      <th>2</th>\n",
              "      <td>332.5</td>\n",
              "      <td>142.5</td>\n",
              "      <td>0.0</td>\n",
              "      <td>228.0</td>\n",
              "      <td>0.0</td>\n",
              "      <td>932.0</td>\n",
              "      <td>594.0</td>\n",
              "      <td>270</td>\n",
              "      <td>40.27</td>\n",
              "    </tr>\n",
              "    <tr>\n",
              "      <th>3</th>\n",
              "      <td>332.5</td>\n",
              "      <td>142.5</td>\n",
              "      <td>0.0</td>\n",
              "      <td>228.0</td>\n",
              "      <td>0.0</td>\n",
              "      <td>932.0</td>\n",
              "      <td>594.0</td>\n",
              "      <td>365</td>\n",
              "      <td>41.05</td>\n",
              "    </tr>\n",
              "    <tr>\n",
              "      <th>4</th>\n",
              "      <td>198.6</td>\n",
              "      <td>132.4</td>\n",
              "      <td>0.0</td>\n",
              "      <td>192.0</td>\n",
              "      <td>0.0</td>\n",
              "      <td>978.4</td>\n",
              "      <td>825.5</td>\n",
              "      <td>360</td>\n",
              "      <td>44.30</td>\n",
              "    </tr>\n",
              "  </tbody>\n",
              "</table>\n",
              "</div>"
            ],
            "text/plain": [
              "   Cement  Blast Furnace Slag  Fly Ash  ...  Fine Aggregate  Age  Strength\n",
              "0   540.0                 0.0      0.0  ...           676.0   28     79.99\n",
              "1   540.0                 0.0      0.0  ...           676.0   28     61.89\n",
              "2   332.5               142.5      0.0  ...           594.0  270     40.27\n",
              "3   332.5               142.5      0.0  ...           594.0  365     41.05\n",
              "4   198.6               132.4      0.0  ...           825.5  360     44.30\n",
              "\n",
              "[5 rows x 9 columns]"
            ]
          },
          "metadata": {
            "tags": []
          },
          "execution_count": 3
        }
      ]
    },
    {
      "cell_type": "code",
      "metadata": {
        "id": "ncPuy7zzs6du",
        "colab_type": "code",
        "colab": {}
      },
      "source": [
        "concrete_data_columns = concrete_data.columns\n",
        "\n",
        "predictors = concrete_data[concrete_data_columns[concrete_data_columns != 'Strength']] # all columns except Strength\n",
        "target = concrete_data['Strength'] # Strength column"
      ],
      "execution_count": 4,
      "outputs": []
    },
    {
      "cell_type": "code",
      "metadata": {
        "id": "dXXOwK58t8jc",
        "colab_type": "code",
        "colab": {}
      },
      "source": [
        "n_cols = predictors.shape[1] # number of predictors"
      ],
      "execution_count": 5,
      "outputs": []
    },
    {
      "cell_type": "markdown",
      "metadata": {
        "id": "W5MtFT3rtpjD",
        "colab_type": "text"
      },
      "source": [
        "Build Regresion Model"
      ]
    },
    {
      "cell_type": "code",
      "metadata": {
        "id": "FaG-uWKOuNBT",
        "colab_type": "code",
        "colab": {
          "base_uri": "https://localhost:8080/",
          "height": 33
        },
        "outputId": "e4b8d9a9-9260-4d05-f8c1-e4da09a5e562"
      },
      "source": [
        "from keras.models import Sequential\n",
        "from keras.layers import Dense"
      ],
      "execution_count": 6,
      "outputs": [
        {
          "output_type": "stream",
          "text": [
            "Using TensorFlow backend.\n"
          ],
          "name": "stderr"
        }
      ]
    },
    {
      "cell_type": "code",
      "metadata": {
        "id": "tLkaEpBltt1Y",
        "colab_type": "code",
        "colab": {}
      },
      "source": [
        "# define regression model\n",
        "def regression_model():\n",
        "    # create model\n",
        "    model = Sequential()\n",
        "    model.add(Dense(50, activation='relu', input_shape=(n_cols,)))\n",
        "    model.add(Dense(1))\n",
        "    \n",
        "    # compile model\n",
        "    model.compile(optimizer='adam', loss='mean_squared_error')\n",
        "    return model"
      ],
      "execution_count": 7,
      "outputs": []
    },
    {
      "cell_type": "markdown",
      "metadata": {
        "id": "FLSKucn0tJrd",
        "colab_type": "text"
      },
      "source": [
        "1. Randomly split the data into a training and test sets by holding 30% of the data for testing. You can use the train_test_splithelper function from Scikit-learn."
      ]
    },
    {
      "cell_type": "code",
      "metadata": {
        "id": "2W-GHV33tKtq",
        "colab_type": "code",
        "colab": {}
      },
      "source": [
        "from sklearn.model_selection import train_test_split\n",
        "x_train, x_test, y_train,y_test = train_test_split(predictors,target, test_size=0.3, random_state=20)"
      ],
      "execution_count": 8,
      "outputs": []
    },
    {
      "cell_type": "code",
      "metadata": {
        "id": "mphc_kC3vWfw",
        "colab_type": "code",
        "colab": {
          "base_uri": "https://localhost:8080/",
          "height": 217
        },
        "outputId": "48db1dcd-41ee-4206-ac39-a172a8b409d1"
      },
      "source": [
        "y_train"
      ],
      "execution_count": 9,
      "outputs": [
        {
          "output_type": "execute_result",
          "data": {
            "text/plain": [
              "53     49.19\n",
              "526    23.64\n",
              "860    38.46\n",
              "453    31.72\n",
              "561    33.08\n",
              "       ...  \n",
              "992    15.42\n",
              "393    44.33\n",
              "924    26.97\n",
              "271    33.73\n",
              "474    53.39\n",
              "Name: Strength, Length: 721, dtype: float64"
            ]
          },
          "metadata": {
            "tags": []
          },
          "execution_count": 9
        }
      ]
    },
    {
      "cell_type": "markdown",
      "metadata": {
        "id": "WlhS9p0muA3j",
        "colab_type": "text"
      },
      "source": [
        "2. Train the model on the training data using 50 epochs."
      ]
    },
    {
      "cell_type": "code",
      "metadata": {
        "id": "0MJ8w9Rut_cU",
        "colab_type": "code",
        "colab": {
          "base_uri": "https://localhost:8080/",
          "height": 1000
        },
        "outputId": "a2762880-cb14-490e-c14d-00bcae5e8162"
      },
      "source": [
        "# build the model\n",
        "model = regression_model()\n",
        "# fit the model\n",
        "model.fit(x_train, y_train, epochs=50, verbose=1)"
      ],
      "execution_count": 10,
      "outputs": [
        {
          "output_type": "stream",
          "text": [
            "Epoch 1/50\n",
            "721/721 [==============================] - 0s 145us/step - loss: 19719.9248\n",
            "Epoch 2/50\n",
            "721/721 [==============================] - 0s 33us/step - loss: 1595.8368\n",
            "Epoch 3/50\n",
            "721/721 [==============================] - 0s 33us/step - loss: 667.0626\n",
            "Epoch 4/50\n",
            "721/721 [==============================] - 0s 33us/step - loss: 555.2465\n",
            "Epoch 5/50\n",
            "721/721 [==============================] - 0s 34us/step - loss: 483.1418\n",
            "Epoch 6/50\n",
            "721/721 [==============================] - 0s 30us/step - loss: 420.1080\n",
            "Epoch 7/50\n",
            "721/721 [==============================] - 0s 30us/step - loss: 368.6920\n",
            "Epoch 8/50\n",
            "721/721 [==============================] - 0s 29us/step - loss: 326.9751\n",
            "Epoch 9/50\n",
            "721/721 [==============================] - 0s 29us/step - loss: 290.0919\n",
            "Epoch 10/50\n",
            "721/721 [==============================] - 0s 31us/step - loss: 262.7767\n",
            "Epoch 11/50\n",
            "721/721 [==============================] - 0s 29us/step - loss: 238.1065\n",
            "Epoch 12/50\n",
            "721/721 [==============================] - 0s 30us/step - loss: 215.1274\n",
            "Epoch 13/50\n",
            "721/721 [==============================] - 0s 29us/step - loss: 200.3093\n",
            "Epoch 14/50\n",
            "721/721 [==============================] - 0s 30us/step - loss: 183.5782\n",
            "Epoch 15/50\n",
            "721/721 [==============================] - 0s 31us/step - loss: 170.9513\n",
            "Epoch 16/50\n",
            "721/721 [==============================] - 0s 39us/step - loss: 160.3094\n",
            "Epoch 17/50\n",
            "721/721 [==============================] - 0s 29us/step - loss: 152.3835\n",
            "Epoch 18/50\n",
            "721/721 [==============================] - 0s 31us/step - loss: 143.8770\n",
            "Epoch 19/50\n",
            "721/721 [==============================] - 0s 29us/step - loss: 139.1406\n",
            "Epoch 20/50\n",
            "721/721 [==============================] - 0s 30us/step - loss: 133.8009\n",
            "Epoch 21/50\n",
            "721/721 [==============================] - 0s 31us/step - loss: 129.3796\n",
            "Epoch 22/50\n",
            "721/721 [==============================] - 0s 29us/step - loss: 126.7871\n",
            "Epoch 23/50\n",
            "721/721 [==============================] - 0s 30us/step - loss: 123.8220\n",
            "Epoch 24/50\n",
            "721/721 [==============================] - 0s 30us/step - loss: 122.3560\n",
            "Epoch 25/50\n",
            "721/721 [==============================] - 0s 28us/step - loss: 120.5886\n",
            "Epoch 26/50\n",
            "721/721 [==============================] - 0s 30us/step - loss: 117.6615\n",
            "Epoch 27/50\n",
            "721/721 [==============================] - 0s 29us/step - loss: 116.3014\n",
            "Epoch 28/50\n",
            "721/721 [==============================] - 0s 30us/step - loss: 114.8228\n",
            "Epoch 29/50\n",
            "721/721 [==============================] - 0s 30us/step - loss: 114.7200\n",
            "Epoch 30/50\n",
            "721/721 [==============================] - 0s 34us/step - loss: 113.0796\n",
            "Epoch 31/50\n",
            "721/721 [==============================] - 0s 29us/step - loss: 113.0010\n",
            "Epoch 32/50\n",
            "721/721 [==============================] - 0s 31us/step - loss: 112.8744\n",
            "Epoch 33/50\n",
            "721/721 [==============================] - 0s 30us/step - loss: 110.3965\n",
            "Epoch 34/50\n",
            "721/721 [==============================] - 0s 30us/step - loss: 110.7655\n",
            "Epoch 35/50\n",
            "721/721 [==============================] - 0s 29us/step - loss: 109.7846\n",
            "Epoch 36/50\n",
            "721/721 [==============================] - 0s 29us/step - loss: 109.0599\n",
            "Epoch 37/50\n",
            "721/721 [==============================] - 0s 30us/step - loss: 108.7085\n",
            "Epoch 38/50\n",
            "721/721 [==============================] - 0s 37us/step - loss: 108.7630\n",
            "Epoch 39/50\n",
            "721/721 [==============================] - 0s 35us/step - loss: 107.3716\n",
            "Epoch 40/50\n",
            "721/721 [==============================] - 0s 33us/step - loss: 106.8734\n",
            "Epoch 41/50\n",
            "721/721 [==============================] - 0s 30us/step - loss: 106.8397\n",
            "Epoch 42/50\n",
            "721/721 [==============================] - 0s 31us/step - loss: 106.3277\n",
            "Epoch 43/50\n",
            "721/721 [==============================] - 0s 32us/step - loss: 105.3294\n",
            "Epoch 44/50\n",
            "721/721 [==============================] - 0s 32us/step - loss: 106.9217\n",
            "Epoch 45/50\n",
            "721/721 [==============================] - 0s 33us/step - loss: 105.0961\n",
            "Epoch 46/50\n",
            "721/721 [==============================] - 0s 34us/step - loss: 104.3747\n",
            "Epoch 47/50\n",
            "721/721 [==============================] - 0s 36us/step - loss: 103.3821\n",
            "Epoch 48/50\n",
            "721/721 [==============================] - 0s 38us/step - loss: 104.1268\n",
            "Epoch 49/50\n",
            "721/721 [==============================] - 0s 34us/step - loss: 103.5041\n",
            "Epoch 50/50\n",
            "721/721 [==============================] - 0s 33us/step - loss: 102.6004\n"
          ],
          "name": "stdout"
        },
        {
          "output_type": "execute_result",
          "data": {
            "text/plain": [
              "<keras.callbacks.callbacks.History at 0x7fc35bdcde80>"
            ]
          },
          "metadata": {
            "tags": []
          },
          "execution_count": 10
        }
      ]
    },
    {
      "cell_type": "markdown",
      "metadata": {
        "id": "amMMq4mgvtZu",
        "colab_type": "text"
      },
      "source": [
        "3. Evaluate the model on the test data and compute the mean squared error between the predicted concrete strength and the actual concrete strength. You can use the mean_squared_error function from Scikit-learn."
      ]
    },
    {
      "cell_type": "code",
      "metadata": {
        "id": "BOAa0OrYxQ1P",
        "colab_type": "code",
        "colab": {
          "base_uri": "https://localhost:8080/",
          "height": 50
        },
        "outputId": "1d3592e8-cf74-4783-ba50-9316468979d6"
      },
      "source": [
        "MSE = model.evaluate(x_test,y_test)\n",
        "MSE"
      ],
      "execution_count": 11,
      "outputs": [
        {
          "output_type": "stream",
          "text": [
            "309/309 [==============================] - 0s 46us/step\n"
          ],
          "name": "stdout"
        },
        {
          "output_type": "execute_result",
          "data": {
            "text/plain": [
              "83.68432839402875"
            ]
          },
          "metadata": {
            "tags": []
          },
          "execution_count": 11
        }
      ]
    },
    {
      "cell_type": "code",
      "metadata": {
        "id": "R1XX-ncJufAv",
        "colab_type": "code",
        "colab": {}
      },
      "source": [
        "from sklearn.metrics import mean_squared_error\n",
        "ypred = model.predict(x_test)\n",
        "mse = mean_squared_error(y_test,ypred)\n",
        "mean_mse = np.mean(mse)\n",
        "std_mse = np.std(mse)\n"
      ],
      "execution_count": 12,
      "outputs": []
    },
    {
      "cell_type": "code",
      "metadata": {
        "id": "B2ByWVIRwLXC",
        "colab_type": "code",
        "colab": {
          "base_uri": "https://localhost:8080/",
          "height": 50
        },
        "outputId": "678d2479-ee0e-488a-f73b-3d03a0ceafa2"
      },
      "source": [
        "print(\"mean : \"+str(mean_mse) + \"\\nStandar deviasi : \"+str(std_mse))"
      ],
      "execution_count": 13,
      "outputs": [
        {
          "output_type": "stream",
          "text": [
            "mean : 83.68432687856354\n",
            "Standar deviasi : 0.0\n"
          ],
          "name": "stdout"
        }
      ]
    },
    {
      "cell_type": "markdown",
      "metadata": {
        "id": "7X5eCghLwmn0",
        "colab_type": "text"
      },
      "source": [
        "4. Repeat steps 1 - 3, 50 times, i.e., create a list of 50 mean squared errors"
      ]
    },
    {
      "cell_type": "code",
      "metadata": {
        "id": "2vg37h2bwdu4",
        "colab_type": "code",
        "colab": {
          "base_uri": "https://localhost:8080/",
          "height": 1000
        },
        "outputId": "f93cd651-a9a4-45ce-a94b-460b0c2e7a82"
      },
      "source": [
        "total_mse = 50\n",
        "list_mse = []\n",
        "for i in range(0,total_mse):\n",
        "  x_train, x_test, y_train,y_test = train_test_split(predictors,target, test_size=0.3, random_state=20)\n",
        "  model = regression_model()\n",
        "  model.fit(x_train, y_train, epochs=50, verbose=0)\n",
        "  MSE_model = model.evaluate(x_test,y_test)\n",
        "  print(\"MSE \"+str(i+1)+ \" is \"+str(MSE_model))\n",
        "  ypred = model.predict(x_test)\n",
        "  mse = mean_squared_error(y_test,ypred)\n",
        "  list_mse.append(mse)\n"
      ],
      "execution_count": 17,
      "outputs": [
        {
          "output_type": "stream",
          "text": [
            "309/309 [==============================] - 0s 51us/step\n",
            "MSE 1 is 72.55300500863578\n",
            "309/309 [==============================] - 0s 50us/step\n",
            "MSE 2 is 67.19728713051015\n",
            "309/309 [==============================] - 0s 52us/step\n",
            "MSE 3 is 105.05320320005941\n",
            "309/309 [==============================] - 0s 49us/step\n",
            "MSE 4 is 106.99851021874684\n",
            "309/309 [==============================] - 0s 52us/step\n",
            "MSE 5 is 65.39539070499754\n",
            "309/309 [==============================] - 0s 58us/step\n",
            "MSE 6 is 75.51131421925567\n",
            "309/309 [==============================] - 0s 45us/step\n",
            "MSE 7 is 85.97119545550794\n",
            "309/309 [==============================] - 0s 53us/step\n",
            "MSE 8 is 71.94170206804492\n",
            "309/309 [==============================] - 0s 53us/step\n",
            "MSE 9 is 107.05428212977536\n",
            "309/309 [==============================] - 0s 51us/step\n",
            "MSE 10 is 105.53692298568183\n",
            "309/309 [==============================] - 0s 52us/step\n",
            "MSE 11 is 86.24913368101645\n",
            "309/309 [==============================] - 0s 75us/step\n",
            "MSE 12 is 90.28344410522855\n",
            "309/309 [==============================] - 0s 52us/step\n",
            "MSE 13 is 90.94041956435515\n",
            "309/309 [==============================] - 0s 54us/step\n",
            "MSE 14 is 108.17141274263943\n",
            "309/309 [==============================] - 0s 46us/step\n",
            "MSE 15 is 84.38906327034663\n",
            "309/309 [==============================] - 0s 51us/step\n",
            "MSE 16 is 91.18801153979256\n",
            "309/309 [==============================] - 0s 52us/step\n",
            "MSE 17 is 71.89506123366866\n",
            "309/309 [==============================] - 0s 54us/step\n",
            "MSE 18 is 67.47539132621296\n",
            "309/309 [==============================] - 0s 47us/step\n",
            "MSE 19 is 72.52595396566545\n",
            "309/309 [==============================] - 0s 51us/step\n",
            "MSE 20 is 54.58244711372845\n",
            "309/309 [==============================] - 0s 55us/step\n",
            "MSE 21 is 75.7777749465893\n",
            "309/309 [==============================] - 0s 48us/step\n",
            "MSE 22 is 94.80503129187525\n",
            "309/309 [==============================] - 0s 50us/step\n",
            "MSE 23 is 52.29354431251106\n",
            "309/309 [==============================] - 0s 50us/step\n",
            "MSE 24 is 65.58171792632167\n",
            "309/309 [==============================] - 0s 50us/step\n",
            "MSE 25 is 114.00136701960393\n",
            "309/309 [==============================] - 0s 49us/step\n",
            "MSE 26 is 54.90937308894778\n",
            "309/309 [==============================] - 0s 51us/step\n",
            "MSE 27 is 70.82214767801723\n",
            "309/309 [==============================] - 0s 51us/step\n",
            "MSE 28 is 53.46787244679473\n",
            "309/309 [==============================] - 0s 47us/step\n",
            "MSE 29 is 109.48057047526042\n",
            "309/309 [==============================] - 0s 48us/step\n",
            "MSE 30 is 63.22531846426066\n",
            "309/309 [==============================] - 0s 57us/step\n",
            "MSE 31 is 95.31170624668158\n",
            "309/309 [==============================] - 0s 56us/step\n",
            "MSE 32 is 65.09790285968472\n",
            "309/309 [==============================] - 0s 60us/step\n",
            "MSE 33 is 70.08392242629165\n",
            "309/309 [==============================] - 0s 52us/step\n",
            "MSE 34 is 134.9026916898956\n",
            "309/309 [==============================] - 0s 49us/step\n",
            "MSE 35 is 63.30001756982896\n",
            "309/309 [==============================] - 0s 51us/step\n",
            "MSE 36 is 64.23769731737649\n",
            "309/309 [==============================] - 0s 59us/step\n",
            "MSE 37 is 61.30677921332202\n",
            "309/309 [==============================] - 0s 52us/step\n",
            "MSE 38 is 93.66425125961551\n",
            "309/309 [==============================] - 0s 45us/step\n",
            "MSE 39 is 83.59090574196627\n",
            "309/309 [==============================] - 0s 51us/step\n",
            "MSE 40 is 86.03079277952126\n",
            "309/309 [==============================] - 0s 51us/step\n",
            "MSE 41 is 62.181195181936125\n",
            "309/309 [==============================] - 0s 55us/step\n",
            "MSE 42 is 60.33955079606436\n",
            "309/309 [==============================] - 0s 50us/step\n",
            "MSE 43 is 81.26213604578308\n",
            "309/309 [==============================] - 0s 64us/step\n",
            "MSE 44 is 191.52630437462076\n",
            "309/309 [==============================] - 0s 51us/step\n",
            "MSE 45 is 76.27496972438973\n",
            "309/309 [==============================] - 0s 53us/step\n",
            "MSE 46 is 134.51698920487587\n",
            "309/309 [==============================] - 0s 49us/step\n",
            "MSE 47 is 74.39167262203871\n",
            "309/309 [==============================] - 0s 54us/step\n",
            "MSE 48 is 62.68052937529234\n",
            "309/309 [==============================] - 0s 54us/step\n",
            "MSE 49 is 88.83332953098136\n",
            "309/309 [==============================] - 0s 47us/step\n",
            "MSE 50 is 64.14943176565818\n"
          ],
          "name": "stdout"
        }
      ]
    },
    {
      "cell_type": "markdown",
      "metadata": {
        "id": "wvGkiOF1zhnv",
        "colab_type": "text"
      },
      "source": [
        "5. Report the mean and the standard deviation of the mean squared errors."
      ]
    },
    {
      "cell_type": "code",
      "metadata": {
        "id": "N_m1b4PlyuRH",
        "colab_type": "code",
        "colab": {
          "base_uri": "https://localhost:8080/",
          "height": 50
        },
        "outputId": "e5a197d5-059e-4258-ca37-5b6386556de7"
      },
      "source": [
        "list_mse = np.array(list_mse)\n",
        "total_mean = np.mean(list_mse)\n",
        "total_std = np.std(list_mse)\n",
        "print(\"Mean : \"+str(total_mean))\n",
        "print(\"Standar devisi : \"+str(total_std))"
      ],
      "execution_count": 18,
      "outputs": [
        {
          "output_type": "stream",
          "text": [
            "Mean : 82.9792116545767\n",
            "Standar devisi : 25.0545334270615\n"
          ],
          "name": "stdout"
        }
      ]
    }
  ]
}