{
  "nbformat": 4,
  "nbformat_minor": 0,
  "metadata": {
    "colab": {
      "name": "Part B.ipynb",
      "provenance": []
    },
    "kernelspec": {
      "name": "python3",
      "display_name": "Python 3"
    }
  },
  "cells": [
    {
      "cell_type": "markdown",
      "metadata": {
        "id": "QEMvvkqK1E7v",
        "colab_type": "text"
      },
      "source": [
        "**Repeat Part A but use a normalized version of the data. Recall that one way to normalize the data is by subtracting the mean from the individual predictors and dividing by the standard deviation.**"
      ]
    },
    {
      "cell_type": "markdown",
      "metadata": {
        "id": "2GMI2NHvsxib",
        "colab_type": "text"
      },
      "source": [
        "Download and Clean Dataset"
      ]
    },
    {
      "cell_type": "code",
      "metadata": {
        "id": "J6WsZoBPs1oE",
        "colab_type": "code",
        "colab": {}
      },
      "source": [
        "import pandas as pd\n",
        "import numpy as np"
      ],
      "execution_count": 2,
      "outputs": []
    },
    {
      "cell_type": "code",
      "metadata": {
        "id": "cuLGJJVGs4IE",
        "colab_type": "code",
        "colab": {
          "base_uri": "https://localhost:8080/",
          "height": 196
        },
        "outputId": "67186549-64e9-4240-9741-51a21ae7f19e"
      },
      "source": [
        "concrete_data = pd.read_csv('https://s3-api.us-geo.objectstorage.softlayer.net/cf-courses-data/CognitiveClass/DL0101EN/labs/data/concrete_data.csv')\n",
        "concrete_data.head()"
      ],
      "execution_count": 3,
      "outputs": [
        {
          "output_type": "execute_result",
          "data": {
            "text/html": [
              "<div>\n",
              "<style scoped>\n",
              "    .dataframe tbody tr th:only-of-type {\n",
              "        vertical-align: middle;\n",
              "    }\n",
              "\n",
              "    .dataframe tbody tr th {\n",
              "        vertical-align: top;\n",
              "    }\n",
              "\n",
              "    .dataframe thead th {\n",
              "        text-align: right;\n",
              "    }\n",
              "</style>\n",
              "<table border=\"1\" class=\"dataframe\">\n",
              "  <thead>\n",
              "    <tr style=\"text-align: right;\">\n",
              "      <th></th>\n",
              "      <th>Cement</th>\n",
              "      <th>Blast Furnace Slag</th>\n",
              "      <th>Fly Ash</th>\n",
              "      <th>Water</th>\n",
              "      <th>Superplasticizer</th>\n",
              "      <th>Coarse Aggregate</th>\n",
              "      <th>Fine Aggregate</th>\n",
              "      <th>Age</th>\n",
              "      <th>Strength</th>\n",
              "    </tr>\n",
              "  </thead>\n",
              "  <tbody>\n",
              "    <tr>\n",
              "      <th>0</th>\n",
              "      <td>540.0</td>\n",
              "      <td>0.0</td>\n",
              "      <td>0.0</td>\n",
              "      <td>162.0</td>\n",
              "      <td>2.5</td>\n",
              "      <td>1040.0</td>\n",
              "      <td>676.0</td>\n",
              "      <td>28</td>\n",
              "      <td>79.99</td>\n",
              "    </tr>\n",
              "    <tr>\n",
              "      <th>1</th>\n",
              "      <td>540.0</td>\n",
              "      <td>0.0</td>\n",
              "      <td>0.0</td>\n",
              "      <td>162.0</td>\n",
              "      <td>2.5</td>\n",
              "      <td>1055.0</td>\n",
              "      <td>676.0</td>\n",
              "      <td>28</td>\n",
              "      <td>61.89</td>\n",
              "    </tr>\n",
              "    <tr>\n",
              "      <th>2</th>\n",
              "      <td>332.5</td>\n",
              "      <td>142.5</td>\n",
              "      <td>0.0</td>\n",
              "      <td>228.0</td>\n",
              "      <td>0.0</td>\n",
              "      <td>932.0</td>\n",
              "      <td>594.0</td>\n",
              "      <td>270</td>\n",
              "      <td>40.27</td>\n",
              "    </tr>\n",
              "    <tr>\n",
              "      <th>3</th>\n",
              "      <td>332.5</td>\n",
              "      <td>142.5</td>\n",
              "      <td>0.0</td>\n",
              "      <td>228.0</td>\n",
              "      <td>0.0</td>\n",
              "      <td>932.0</td>\n",
              "      <td>594.0</td>\n",
              "      <td>365</td>\n",
              "      <td>41.05</td>\n",
              "    </tr>\n",
              "    <tr>\n",
              "      <th>4</th>\n",
              "      <td>198.6</td>\n",
              "      <td>132.4</td>\n",
              "      <td>0.0</td>\n",
              "      <td>192.0</td>\n",
              "      <td>0.0</td>\n",
              "      <td>978.4</td>\n",
              "      <td>825.5</td>\n",
              "      <td>360</td>\n",
              "      <td>44.30</td>\n",
              "    </tr>\n",
              "  </tbody>\n",
              "</table>\n",
              "</div>"
            ],
            "text/plain": [
              "   Cement  Blast Furnace Slag  Fly Ash  ...  Fine Aggregate  Age  Strength\n",
              "0   540.0                 0.0      0.0  ...           676.0   28     79.99\n",
              "1   540.0                 0.0      0.0  ...           676.0   28     61.89\n",
              "2   332.5               142.5      0.0  ...           594.0  270     40.27\n",
              "3   332.5               142.5      0.0  ...           594.0  365     41.05\n",
              "4   198.6               132.4      0.0  ...           825.5  360     44.30\n",
              "\n",
              "[5 rows x 9 columns]"
            ]
          },
          "metadata": {
            "tags": []
          },
          "execution_count": 3
        }
      ]
    },
    {
      "cell_type": "code",
      "metadata": {
        "id": "ncPuy7zzs6du",
        "colab_type": "code",
        "colab": {}
      },
      "source": [
        "concrete_data_columns = concrete_data.columns\n",
        "\n",
        "predictors = concrete_data[concrete_data_columns[concrete_data_columns != 'Strength']] # all columns except Strength\n",
        "target = concrete_data['Strength'] # Strength column"
      ],
      "execution_count": 4,
      "outputs": []
    },
    {
      "cell_type": "markdown",
      "metadata": {
        "id": "7qdMlTXrz_wz",
        "colab_type": "text"
      },
      "source": [
        "#use a normalized version of the data"
      ]
    },
    {
      "cell_type": "code",
      "metadata": {
        "id": "F7FlJr8Tz-nb",
        "colab_type": "code",
        "colab": {
          "base_uri": "https://localhost:8080/",
          "height": 196
        },
        "outputId": "7f93eb87-0200-4be9-c434-51be8936e705"
      },
      "source": [
        "predictors_norm = (predictors - predictors.mean()) / predictors.std()\n",
        "predictors_norm.head()"
      ],
      "execution_count": 19,
      "outputs": [
        {
          "output_type": "execute_result",
          "data": {
            "text/html": [
              "<div>\n",
              "<style scoped>\n",
              "    .dataframe tbody tr th:only-of-type {\n",
              "        vertical-align: middle;\n",
              "    }\n",
              "\n",
              "    .dataframe tbody tr th {\n",
              "        vertical-align: top;\n",
              "    }\n",
              "\n",
              "    .dataframe thead th {\n",
              "        text-align: right;\n",
              "    }\n",
              "</style>\n",
              "<table border=\"1\" class=\"dataframe\">\n",
              "  <thead>\n",
              "    <tr style=\"text-align: right;\">\n",
              "      <th></th>\n",
              "      <th>Cement</th>\n",
              "      <th>Blast Furnace Slag</th>\n",
              "      <th>Fly Ash</th>\n",
              "      <th>Water</th>\n",
              "      <th>Superplasticizer</th>\n",
              "      <th>Coarse Aggregate</th>\n",
              "      <th>Fine Aggregate</th>\n",
              "      <th>Age</th>\n",
              "    </tr>\n",
              "  </thead>\n",
              "  <tbody>\n",
              "    <tr>\n",
              "      <th>0</th>\n",
              "      <td>2.476712</td>\n",
              "      <td>-0.856472</td>\n",
              "      <td>-0.846733</td>\n",
              "      <td>-0.916319</td>\n",
              "      <td>-0.620147</td>\n",
              "      <td>0.862735</td>\n",
              "      <td>-1.217079</td>\n",
              "      <td>-0.279597</td>\n",
              "    </tr>\n",
              "    <tr>\n",
              "      <th>1</th>\n",
              "      <td>2.476712</td>\n",
              "      <td>-0.856472</td>\n",
              "      <td>-0.846733</td>\n",
              "      <td>-0.916319</td>\n",
              "      <td>-0.620147</td>\n",
              "      <td>1.055651</td>\n",
              "      <td>-1.217079</td>\n",
              "      <td>-0.279597</td>\n",
              "    </tr>\n",
              "    <tr>\n",
              "      <th>2</th>\n",
              "      <td>0.491187</td>\n",
              "      <td>0.795140</td>\n",
              "      <td>-0.846733</td>\n",
              "      <td>2.174405</td>\n",
              "      <td>-1.038638</td>\n",
              "      <td>-0.526262</td>\n",
              "      <td>-2.239829</td>\n",
              "      <td>3.551340</td>\n",
              "    </tr>\n",
              "    <tr>\n",
              "      <th>3</th>\n",
              "      <td>0.491187</td>\n",
              "      <td>0.795140</td>\n",
              "      <td>-0.846733</td>\n",
              "      <td>2.174405</td>\n",
              "      <td>-1.038638</td>\n",
              "      <td>-0.526262</td>\n",
              "      <td>-2.239829</td>\n",
              "      <td>5.055221</td>\n",
              "    </tr>\n",
              "    <tr>\n",
              "      <th>4</th>\n",
              "      <td>-0.790075</td>\n",
              "      <td>0.678079</td>\n",
              "      <td>-0.846733</td>\n",
              "      <td>0.488555</td>\n",
              "      <td>-1.038638</td>\n",
              "      <td>0.070492</td>\n",
              "      <td>0.647569</td>\n",
              "      <td>4.976069</td>\n",
              "    </tr>\n",
              "  </tbody>\n",
              "</table>\n",
              "</div>"
            ],
            "text/plain": [
              "     Cement  Blast Furnace Slag  ...  Fine Aggregate       Age\n",
              "0  2.476712           -0.856472  ...       -1.217079 -0.279597\n",
              "1  2.476712           -0.856472  ...       -1.217079 -0.279597\n",
              "2  0.491187            0.795140  ...       -2.239829  3.551340\n",
              "3  0.491187            0.795140  ...       -2.239829  5.055221\n",
              "4 -0.790075            0.678079  ...        0.647569  4.976069\n",
              "\n",
              "[5 rows x 8 columns]"
            ]
          },
          "metadata": {
            "tags": []
          },
          "execution_count": 19
        }
      ]
    },
    {
      "cell_type": "code",
      "metadata": {
        "id": "dXXOwK58t8jc",
        "colab_type": "code",
        "colab": {}
      },
      "source": [
        "n_cols = predictors_norm.shape[1] # number of predictors"
      ],
      "execution_count": 20,
      "outputs": []
    },
    {
      "cell_type": "markdown",
      "metadata": {
        "id": "W5MtFT3rtpjD",
        "colab_type": "text"
      },
      "source": [
        "Build Regresion Model"
      ]
    },
    {
      "cell_type": "code",
      "metadata": {
        "id": "FaG-uWKOuNBT",
        "colab_type": "code",
        "colab": {}
      },
      "source": [
        "from keras.models import Sequential\n",
        "from keras.layers import Dense"
      ],
      "execution_count": 21,
      "outputs": []
    },
    {
      "cell_type": "code",
      "metadata": {
        "id": "tLkaEpBltt1Y",
        "colab_type": "code",
        "colab": {}
      },
      "source": [
        "# define regression model\n",
        "def regression_model():\n",
        "    # create model\n",
        "    model = Sequential()\n",
        "    model.add(Dense(50, activation='relu', input_shape=(n_cols,)))\n",
        "    model.add(Dense(1))\n",
        "    \n",
        "    # compile model\n",
        "    model.compile(optimizer='adam', loss='mean_squared_error')\n",
        "    return model"
      ],
      "execution_count": 23,
      "outputs": []
    },
    {
      "cell_type": "markdown",
      "metadata": {
        "id": "FLSKucn0tJrd",
        "colab_type": "text"
      },
      "source": [
        "1. Randomly split the data into a training and test sets by holding 30% of the data for testing. You can use the train_test_splithelper function from Scikit-learn."
      ]
    },
    {
      "cell_type": "code",
      "metadata": {
        "id": "2W-GHV33tKtq",
        "colab_type": "code",
        "colab": {}
      },
      "source": [
        "from sklearn.model_selection import train_test_split\n",
        "x_train, x_test, y_train,y_test = train_test_split(predictors_norm,target, test_size=0.3, random_state=20)"
      ],
      "execution_count": 26,
      "outputs": []
    },
    {
      "cell_type": "markdown",
      "metadata": {
        "id": "WlhS9p0muA3j",
        "colab_type": "text"
      },
      "source": [
        "2. Train the model on the training data using 50 epochs."
      ]
    },
    {
      "cell_type": "code",
      "metadata": {
        "id": "0MJ8w9Rut_cU",
        "colab_type": "code",
        "colab": {
          "base_uri": "https://localhost:8080/",
          "height": 1000
        },
        "outputId": "17622894-b067-4f9a-bcde-ccf253a083c5"
      },
      "source": [
        "# build the model\n",
        "model = regression_model()\n",
        "# fit the model\n",
        "model.fit(x_train, y_train, epochs=50, verbose=1)"
      ],
      "execution_count": 27,
      "outputs": [
        {
          "output_type": "stream",
          "text": [
            "Epoch 1/50\n",
            "721/721 [==============================] - 0s 117us/step - loss: 1514.5504\n",
            "Epoch 2/50\n",
            "721/721 [==============================] - 0s 29us/step - loss: 1473.3435\n",
            "Epoch 3/50\n",
            "721/721 [==============================] - 0s 31us/step - loss: 1428.9876\n",
            "Epoch 4/50\n",
            "721/721 [==============================] - 0s 32us/step - loss: 1381.1688\n",
            "Epoch 5/50\n",
            "721/721 [==============================] - 0s 33us/step - loss: 1329.1045\n",
            "Epoch 6/50\n",
            "721/721 [==============================] - 0s 34us/step - loss: 1270.6614\n",
            "Epoch 7/50\n",
            "721/721 [==============================] - 0s 33us/step - loss: 1208.0587\n",
            "Epoch 8/50\n",
            "721/721 [==============================] - 0s 33us/step - loss: 1140.1168\n",
            "Epoch 9/50\n",
            "721/721 [==============================] - 0s 29us/step - loss: 1068.0485\n",
            "Epoch 10/50\n",
            "721/721 [==============================] - 0s 31us/step - loss: 993.7452\n",
            "Epoch 11/50\n",
            "721/721 [==============================] - 0s 31us/step - loss: 916.4686\n",
            "Epoch 12/50\n",
            "721/721 [==============================] - 0s 29us/step - loss: 841.0498\n",
            "Epoch 13/50\n",
            "721/721 [==============================] - 0s 30us/step - loss: 765.4710\n",
            "Epoch 14/50\n",
            "721/721 [==============================] - 0s 30us/step - loss: 694.0731\n",
            "Epoch 15/50\n",
            "721/721 [==============================] - 0s 30us/step - loss: 624.6697\n",
            "Epoch 16/50\n",
            "721/721 [==============================] - 0s 33us/step - loss: 562.0624\n",
            "Epoch 17/50\n",
            "721/721 [==============================] - 0s 34us/step - loss: 503.0221\n",
            "Epoch 18/50\n",
            "721/721 [==============================] - 0s 36us/step - loss: 451.0013\n",
            "Epoch 19/50\n",
            "721/721 [==============================] - 0s 30us/step - loss: 405.1963\n",
            "Epoch 20/50\n",
            "721/721 [==============================] - 0s 31us/step - loss: 364.1882\n",
            "Epoch 21/50\n",
            "721/721 [==============================] - 0s 30us/step - loss: 330.0026\n",
            "Epoch 22/50\n",
            "721/721 [==============================] - 0s 31us/step - loss: 300.3792\n",
            "Epoch 23/50\n",
            "721/721 [==============================] - 0s 31us/step - loss: 276.4099\n",
            "Epoch 24/50\n",
            "721/721 [==============================] - 0s 31us/step - loss: 256.2992\n",
            "Epoch 25/50\n",
            "721/721 [==============================] - 0s 31us/step - loss: 239.9357\n",
            "Epoch 26/50\n",
            "721/721 [==============================] - 0s 30us/step - loss: 226.6204\n",
            "Epoch 27/50\n",
            "721/721 [==============================] - 0s 31us/step - loss: 215.7699\n",
            "Epoch 28/50\n",
            "721/721 [==============================] - 0s 31us/step - loss: 206.9942\n",
            "Epoch 29/50\n",
            "721/721 [==============================] - 0s 33us/step - loss: 199.8575\n",
            "Epoch 30/50\n",
            "721/721 [==============================] - 0s 30us/step - loss: 193.9946\n",
            "Epoch 31/50\n",
            "721/721 [==============================] - 0s 31us/step - loss: 188.9475\n",
            "Epoch 32/50\n",
            "721/721 [==============================] - 0s 33us/step - loss: 184.4448\n",
            "Epoch 33/50\n",
            "721/721 [==============================] - 0s 34us/step - loss: 180.8255\n",
            "Epoch 34/50\n",
            "721/721 [==============================] - 0s 40us/step - loss: 177.3396\n",
            "Epoch 35/50\n",
            "721/721 [==============================] - 0s 31us/step - loss: 174.3794\n",
            "Epoch 36/50\n",
            "721/721 [==============================] - 0s 32us/step - loss: 171.7629\n",
            "Epoch 37/50\n",
            "721/721 [==============================] - 0s 29us/step - loss: 168.8601\n",
            "Epoch 38/50\n",
            "721/721 [==============================] - 0s 29us/step - loss: 166.4490\n",
            "Epoch 39/50\n",
            "721/721 [==============================] - 0s 31us/step - loss: 164.2400\n",
            "Epoch 40/50\n",
            "721/721 [==============================] - 0s 30us/step - loss: 162.0706\n",
            "Epoch 41/50\n",
            "721/721 [==============================] - 0s 30us/step - loss: 159.8337\n",
            "Epoch 42/50\n",
            "721/721 [==============================] - 0s 31us/step - loss: 157.8609\n",
            "Epoch 43/50\n",
            "721/721 [==============================] - 0s 31us/step - loss: 155.9486\n",
            "Epoch 44/50\n",
            "721/721 [==============================] - 0s 29us/step - loss: 153.9950\n",
            "Epoch 45/50\n",
            "721/721 [==============================] - 0s 30us/step - loss: 152.2477\n",
            "Epoch 46/50\n",
            "721/721 [==============================] - 0s 30us/step - loss: 150.2795\n",
            "Epoch 47/50\n",
            "721/721 [==============================] - 0s 30us/step - loss: 148.6800\n",
            "Epoch 48/50\n",
            "721/721 [==============================] - 0s 30us/step - loss: 146.9477\n",
            "Epoch 49/50\n",
            "721/721 [==============================] - 0s 30us/step - loss: 145.3621\n",
            "Epoch 50/50\n",
            "721/721 [==============================] - 0s 30us/step - loss: 143.8398\n"
          ],
          "name": "stdout"
        },
        {
          "output_type": "execute_result",
          "data": {
            "text/plain": [
              "<keras.callbacks.callbacks.History at 0x7fc350f53e10>"
            ]
          },
          "metadata": {
            "tags": []
          },
          "execution_count": 27
        }
      ]
    },
    {
      "cell_type": "markdown",
      "metadata": {
        "id": "amMMq4mgvtZu",
        "colab_type": "text"
      },
      "source": [
        "3. Evaluate the model on the test data and compute the mean squared error between the predicted concrete strength and the actual concrete strength. You can use the mean_squared_error function from Scikit-learn."
      ]
    },
    {
      "cell_type": "code",
      "metadata": {
        "id": "BOAa0OrYxQ1P",
        "colab_type": "code",
        "colab": {
          "base_uri": "https://localhost:8080/",
          "height": 50
        },
        "outputId": "9e253309-717e-436c-f3dc-70bdee743d4a"
      },
      "source": [
        "MSE = model.evaluate(x_test,y_test)\n",
        "MSE"
      ],
      "execution_count": 28,
      "outputs": [
        {
          "output_type": "stream",
          "text": [
            "309/309 [==============================] - 0s 56us/step\n"
          ],
          "name": "stdout"
        },
        {
          "output_type": "execute_result",
          "data": {
            "text/plain": [
              "139.79738140414833"
            ]
          },
          "metadata": {
            "tags": []
          },
          "execution_count": 28
        }
      ]
    },
    {
      "cell_type": "code",
      "metadata": {
        "id": "R1XX-ncJufAv",
        "colab_type": "code",
        "colab": {}
      },
      "source": [
        "from sklearn.metrics import mean_squared_error\n",
        "ypred = model.predict(x_test)\n",
        "mse = mean_squared_error(y_test,ypred)\n",
        "mean_mse = np.mean(mse)\n",
        "std_mse = np.std(mse)\n"
      ],
      "execution_count": 29,
      "outputs": []
    },
    {
      "cell_type": "code",
      "metadata": {
        "id": "B2ByWVIRwLXC",
        "colab_type": "code",
        "colab": {
          "base_uri": "https://localhost:8080/",
          "height": 50
        },
        "outputId": "98ab1ad3-5d8a-4dd9-f84c-d131c2c5c594"
      },
      "source": [
        "print(\"mean : \"+str(mean_mse) + \"\\nStandar deviasi : \"+str(std_mse))"
      ],
      "execution_count": 30,
      "outputs": [
        {
          "output_type": "stream",
          "text": [
            "mean : 139.79737759261482\n",
            "Standar deviasi : 0.0\n"
          ],
          "name": "stdout"
        }
      ]
    },
    {
      "cell_type": "markdown",
      "metadata": {
        "id": "7X5eCghLwmn0",
        "colab_type": "text"
      },
      "source": [
        "4. Repeat steps 1 - 3, 50 times, i.e., create a list of 50 mean squared errors"
      ]
    },
    {
      "cell_type": "code",
      "metadata": {
        "id": "2vg37h2bwdu4",
        "colab_type": "code",
        "colab": {
          "base_uri": "https://localhost:8080/",
          "height": 1000
        },
        "outputId": "812cbdc9-5b9e-45f1-a0a9-1a7e4abba3b6"
      },
      "source": [
        "total_mse = 50\n",
        "list_mse = []\n",
        "for i in range(0,total_mse):\n",
        "  x_train, x_test, y_train,y_test = train_test_split(predictors_norm,target, test_size=0.3, random_state=20)\n",
        "  model = regression_model()\n",
        "  model.fit(x_train, y_train, epochs=50, verbose=0)\n",
        "  MSE_model = model.evaluate(x_test,y_test)\n",
        "  print(\"MSE \"+str(i+1)+ \" is \"+str(MSE_model))\n",
        "  ypred = model.predict(x_test)\n",
        "  mse = mean_squared_error(y_test,ypred)\n",
        "  list_mse.append(mse)\n"
      ],
      "execution_count": 32,
      "outputs": [
        {
          "output_type": "stream",
          "text": [
            "309/309 [==============================] - 0s 55us/step\n",
            "MSE 1 is 145.90613568253502\n",
            "309/309 [==============================] - 0s 43us/step\n",
            "MSE 2 is 152.266222265546\n",
            "309/309 [==============================] - 0s 48us/step\n",
            "MSE 3 is 149.14919964935402\n",
            "309/309 [==============================] - 0s 49us/step\n",
            "MSE 4 is 146.8397034086456\n",
            "309/309 [==============================] - 0s 50us/step\n",
            "MSE 5 is 142.64350742969697\n",
            "309/309 [==============================] - 0s 52us/step\n",
            "MSE 6 is 151.1097612103212\n",
            "309/309 [==============================] - 0s 52us/step\n",
            "MSE 7 is 147.7530527948176\n",
            "309/309 [==============================] - 0s 49us/step\n",
            "MSE 8 is 149.73098226504032\n",
            "309/309 [==============================] - 0s 55us/step\n",
            "MSE 9 is 149.4101833602757\n",
            "309/309 [==============================] - 0s 53us/step\n",
            "MSE 10 is 150.72323746665782\n",
            "309/309 [==============================] - 0s 51us/step\n",
            "MSE 11 is 150.0891622895176\n",
            "309/309 [==============================] - 0s 57us/step\n",
            "MSE 12 is 141.7167082357561\n",
            "309/309 [==============================] - 0s 56us/step\n",
            "MSE 13 is 148.57312485778215\n",
            "309/309 [==============================] - 0s 50us/step\n",
            "MSE 14 is 142.81825863736347\n",
            "309/309 [==============================] - 0s 49us/step\n",
            "MSE 15 is 149.65105825874798\n",
            "309/309 [==============================] - 0s 50us/step\n",
            "MSE 16 is 146.6075254273646\n",
            "309/309 [==============================] - 0s 51us/step\n",
            "MSE 17 is 137.6678141374804\n",
            "309/309 [==============================] - 0s 43us/step\n",
            "MSE 18 is 144.82443800250303\n",
            "309/309 [==============================] - 0s 50us/step\n",
            "MSE 19 is 147.57799986805344\n",
            "309/309 [==============================] - 0s 54us/step\n",
            "MSE 20 is 144.3124955063113\n",
            "309/309 [==============================] - 0s 51us/step\n",
            "MSE 21 is 152.30397808976159\n",
            "309/309 [==============================] - 0s 51us/step\n",
            "MSE 22 is 151.45444792219737\n",
            "309/309 [==============================] - 0s 52us/step\n",
            "MSE 23 is 154.16476060194492\n",
            "309/309 [==============================] - 0s 52us/step\n",
            "MSE 24 is 144.65932501635504\n",
            "309/309 [==============================] - 0s 53us/step\n",
            "MSE 25 is 147.04983061262706\n",
            "309/309 [==============================] - 0s 51us/step\n",
            "MSE 26 is 142.63588030670067\n",
            "309/309 [==============================] - 0s 52us/step\n",
            "MSE 27 is 142.75065133795383\n",
            "309/309 [==============================] - 0s 54us/step\n",
            "MSE 28 is 141.38319268581552\n",
            "309/309 [==============================] - 0s 51us/step\n",
            "MSE 29 is 152.9034293955584\n",
            "309/309 [==============================] - 0s 46us/step\n",
            "MSE 30 is 142.24308174404896\n",
            "309/309 [==============================] - 0s 55us/step\n",
            "MSE 31 is 146.56006061837897\n",
            "309/309 [==============================] - 0s 55us/step\n",
            "MSE 32 is 145.9210194708074\n",
            "309/309 [==============================] - 0s 48us/step\n",
            "MSE 33 is 149.88708782504676\n",
            "309/309 [==============================] - 0s 51us/step\n",
            "MSE 34 is 149.36002154797796\n",
            "309/309 [==============================] - 0s 52us/step\n",
            "MSE 35 is 148.42902065635113\n",
            "309/309 [==============================] - 0s 49us/step\n",
            "MSE 36 is 151.5450193040965\n",
            "309/309 [==============================] - 0s 48us/step\n",
            "MSE 37 is 146.15379822369917\n",
            "309/309 [==============================] - 0s 51us/step\n",
            "MSE 38 is 144.42721310711215\n",
            "309/309 [==============================] - 0s 44us/step\n",
            "MSE 39 is 141.27458497081375\n",
            "309/309 [==============================] - 0s 48us/step\n",
            "MSE 40 is 145.5910793168645\n",
            "309/309 [==============================] - 0s 51us/step\n",
            "MSE 41 is 144.18152314713856\n",
            "309/309 [==============================] - 0s 47us/step\n",
            "MSE 42 is 141.3573429144702\n",
            "309/309 [==============================] - 0s 53us/step\n",
            "MSE 43 is 147.54457526839667\n",
            "309/309 [==============================] - 0s 49us/step\n",
            "MSE 44 is 161.13592707069174\n",
            "309/309 [==============================] - 0s 53us/step\n",
            "MSE 45 is 150.20751286478875\n",
            "309/309 [==============================] - 0s 57us/step\n",
            "MSE 46 is 146.93195997318404\n",
            "309/309 [==============================] - 0s 52us/step\n",
            "MSE 47 is 146.12364300477853\n",
            "309/309 [==============================] - 0s 48us/step\n",
            "MSE 48 is 155.80008517268405\n",
            "309/309 [==============================] - 0s 53us/step\n",
            "MSE 49 is 141.88996862516433\n",
            "309/309 [==============================] - 0s 51us/step\n",
            "MSE 50 is 152.99016316731772\n"
          ],
          "name": "stdout"
        }
      ]
    },
    {
      "cell_type": "markdown",
      "metadata": {
        "id": "wvGkiOF1zhnv",
        "colab_type": "text"
      },
      "source": [
        "5. Report the mean and the standard deviation of the mean squared errors."
      ]
    },
    {
      "cell_type": "code",
      "metadata": {
        "id": "N_m1b4PlyuRH",
        "colab_type": "code",
        "colab": {
          "base_uri": "https://localhost:8080/",
          "height": 50
        },
        "outputId": "a593013d-535f-434c-c424-342f4a4cbc6a"
      },
      "source": [
        "list_mse = np.array(list_mse)\n",
        "total_mean = np.mean(list_mse)\n",
        "total_std = np.std(list_mse)\n",
        "print(\"Mean : \"+str(total_mean))\n",
        "print(\"Standar devisi : \"+str(total_std))"
      ],
      "execution_count": 34,
      "outputs": [
        {
          "output_type": "stream",
          "text": [
            "Mean : 147.36461259306162\n",
            "Standar devisi : 4.372312321023083\n"
          ],
          "name": "stdout"
        }
      ]
    },
    {
      "cell_type": "code",
      "metadata": {
        "id": "j5NrIotp0za9",
        "colab_type": "code",
        "colab": {}
      },
      "source": [
        ""
      ],
      "execution_count": null,
      "outputs": []
    }
  ]
}