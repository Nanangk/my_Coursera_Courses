{
  "nbformat": 4,
  "nbformat_minor": 0,
  "metadata": {
    "colab": {
      "name": "Part D.ipynb",
      "provenance": []
    },
    "kernelspec": {
      "name": "python3",
      "display_name": "Python 3"
    }
  },
  "cells": [
    {
      "cell_type": "markdown",
      "metadata": {
        "id": "QEMvvkqK1E7v",
        "colab_type": "text"
      },
      "source": [
        "Repeat part B but use a neural network with the following instead:\n",
        "\n",
        "- Three hidden layers, each of 10 nodes and ReLU activation function. **teks tebal**"
      ]
    },
    {
      "cell_type": "markdown",
      "metadata": {
        "id": "2GMI2NHvsxib",
        "colab_type": "text"
      },
      "source": [
        "Download and Clean Dataset"
      ]
    },
    {
      "cell_type": "code",
      "metadata": {
        "id": "J6WsZoBPs1oE",
        "colab_type": "code",
        "colab": {}
      },
      "source": [
        "import pandas as pd\n",
        "import numpy as np"
      ],
      "execution_count": 50,
      "outputs": []
    },
    {
      "cell_type": "code",
      "metadata": {
        "id": "cuLGJJVGs4IE",
        "colab_type": "code",
        "colab": {
          "base_uri": "https://localhost:8080/",
          "height": 196
        },
        "outputId": "befbf4d8-4090-427d-97a1-309adfe30de0"
      },
      "source": [
        "concrete_data = pd.read_csv('https://s3-api.us-geo.objectstorage.softlayer.net/cf-courses-data/CognitiveClass/DL0101EN/labs/data/concrete_data.csv')\n",
        "concrete_data.head()"
      ],
      "execution_count": 51,
      "outputs": [
        {
          "output_type": "execute_result",
          "data": {
            "text/html": [
              "<div>\n",
              "<style scoped>\n",
              "    .dataframe tbody tr th:only-of-type {\n",
              "        vertical-align: middle;\n",
              "    }\n",
              "\n",
              "    .dataframe tbody tr th {\n",
              "        vertical-align: top;\n",
              "    }\n",
              "\n",
              "    .dataframe thead th {\n",
              "        text-align: right;\n",
              "    }\n",
              "</style>\n",
              "<table border=\"1\" class=\"dataframe\">\n",
              "  <thead>\n",
              "    <tr style=\"text-align: right;\">\n",
              "      <th></th>\n",
              "      <th>Cement</th>\n",
              "      <th>Blast Furnace Slag</th>\n",
              "      <th>Fly Ash</th>\n",
              "      <th>Water</th>\n",
              "      <th>Superplasticizer</th>\n",
              "      <th>Coarse Aggregate</th>\n",
              "      <th>Fine Aggregate</th>\n",
              "      <th>Age</th>\n",
              "      <th>Strength</th>\n",
              "    </tr>\n",
              "  </thead>\n",
              "  <tbody>\n",
              "    <tr>\n",
              "      <th>0</th>\n",
              "      <td>540.0</td>\n",
              "      <td>0.0</td>\n",
              "      <td>0.0</td>\n",
              "      <td>162.0</td>\n",
              "      <td>2.5</td>\n",
              "      <td>1040.0</td>\n",
              "      <td>676.0</td>\n",
              "      <td>28</td>\n",
              "      <td>79.99</td>\n",
              "    </tr>\n",
              "    <tr>\n",
              "      <th>1</th>\n",
              "      <td>540.0</td>\n",
              "      <td>0.0</td>\n",
              "      <td>0.0</td>\n",
              "      <td>162.0</td>\n",
              "      <td>2.5</td>\n",
              "      <td>1055.0</td>\n",
              "      <td>676.0</td>\n",
              "      <td>28</td>\n",
              "      <td>61.89</td>\n",
              "    </tr>\n",
              "    <tr>\n",
              "      <th>2</th>\n",
              "      <td>332.5</td>\n",
              "      <td>142.5</td>\n",
              "      <td>0.0</td>\n",
              "      <td>228.0</td>\n",
              "      <td>0.0</td>\n",
              "      <td>932.0</td>\n",
              "      <td>594.0</td>\n",
              "      <td>270</td>\n",
              "      <td>40.27</td>\n",
              "    </tr>\n",
              "    <tr>\n",
              "      <th>3</th>\n",
              "      <td>332.5</td>\n",
              "      <td>142.5</td>\n",
              "      <td>0.0</td>\n",
              "      <td>228.0</td>\n",
              "      <td>0.0</td>\n",
              "      <td>932.0</td>\n",
              "      <td>594.0</td>\n",
              "      <td>365</td>\n",
              "      <td>41.05</td>\n",
              "    </tr>\n",
              "    <tr>\n",
              "      <th>4</th>\n",
              "      <td>198.6</td>\n",
              "      <td>132.4</td>\n",
              "      <td>0.0</td>\n",
              "      <td>192.0</td>\n",
              "      <td>0.0</td>\n",
              "      <td>978.4</td>\n",
              "      <td>825.5</td>\n",
              "      <td>360</td>\n",
              "      <td>44.30</td>\n",
              "    </tr>\n",
              "  </tbody>\n",
              "</table>\n",
              "</div>"
            ],
            "text/plain": [
              "   Cement  Blast Furnace Slag  Fly Ash  ...  Fine Aggregate  Age  Strength\n",
              "0   540.0                 0.0      0.0  ...           676.0   28     79.99\n",
              "1   540.0                 0.0      0.0  ...           676.0   28     61.89\n",
              "2   332.5               142.5      0.0  ...           594.0  270     40.27\n",
              "3   332.5               142.5      0.0  ...           594.0  365     41.05\n",
              "4   198.6               132.4      0.0  ...           825.5  360     44.30\n",
              "\n",
              "[5 rows x 9 columns]"
            ]
          },
          "metadata": {
            "tags": []
          },
          "execution_count": 51
        }
      ]
    },
    {
      "cell_type": "code",
      "metadata": {
        "id": "ncPuy7zzs6du",
        "colab_type": "code",
        "colab": {}
      },
      "source": [
        "concrete_data_columns = concrete_data.columns\n",
        "\n",
        "predictors = concrete_data[concrete_data_columns[concrete_data_columns != 'Strength']] # all columns except Strength\n",
        "target = concrete_data['Strength'] # Strength column"
      ],
      "execution_count": 52,
      "outputs": []
    },
    {
      "cell_type": "markdown",
      "metadata": {
        "id": "7qdMlTXrz_wz",
        "colab_type": "text"
      },
      "source": [
        "#use a normalized version of the data"
      ]
    },
    {
      "cell_type": "code",
      "metadata": {
        "id": "F7FlJr8Tz-nb",
        "colab_type": "code",
        "colab": {
          "base_uri": "https://localhost:8080/",
          "height": 196
        },
        "outputId": "b0ca7387-544d-4e9c-ee0a-5747ad078d32"
      },
      "source": [
        "predictors_norm = (predictors - predictors.mean()) / predictors.std()\n",
        "predictors_norm.head()"
      ],
      "execution_count": 53,
      "outputs": [
        {
          "output_type": "execute_result",
          "data": {
            "text/html": [
              "<div>\n",
              "<style scoped>\n",
              "    .dataframe tbody tr th:only-of-type {\n",
              "        vertical-align: middle;\n",
              "    }\n",
              "\n",
              "    .dataframe tbody tr th {\n",
              "        vertical-align: top;\n",
              "    }\n",
              "\n",
              "    .dataframe thead th {\n",
              "        text-align: right;\n",
              "    }\n",
              "</style>\n",
              "<table border=\"1\" class=\"dataframe\">\n",
              "  <thead>\n",
              "    <tr style=\"text-align: right;\">\n",
              "      <th></th>\n",
              "      <th>Cement</th>\n",
              "      <th>Blast Furnace Slag</th>\n",
              "      <th>Fly Ash</th>\n",
              "      <th>Water</th>\n",
              "      <th>Superplasticizer</th>\n",
              "      <th>Coarse Aggregate</th>\n",
              "      <th>Fine Aggregate</th>\n",
              "      <th>Age</th>\n",
              "    </tr>\n",
              "  </thead>\n",
              "  <tbody>\n",
              "    <tr>\n",
              "      <th>0</th>\n",
              "      <td>2.476712</td>\n",
              "      <td>-0.856472</td>\n",
              "      <td>-0.846733</td>\n",
              "      <td>-0.916319</td>\n",
              "      <td>-0.620147</td>\n",
              "      <td>0.862735</td>\n",
              "      <td>-1.217079</td>\n",
              "      <td>-0.279597</td>\n",
              "    </tr>\n",
              "    <tr>\n",
              "      <th>1</th>\n",
              "      <td>2.476712</td>\n",
              "      <td>-0.856472</td>\n",
              "      <td>-0.846733</td>\n",
              "      <td>-0.916319</td>\n",
              "      <td>-0.620147</td>\n",
              "      <td>1.055651</td>\n",
              "      <td>-1.217079</td>\n",
              "      <td>-0.279597</td>\n",
              "    </tr>\n",
              "    <tr>\n",
              "      <th>2</th>\n",
              "      <td>0.491187</td>\n",
              "      <td>0.795140</td>\n",
              "      <td>-0.846733</td>\n",
              "      <td>2.174405</td>\n",
              "      <td>-1.038638</td>\n",
              "      <td>-0.526262</td>\n",
              "      <td>-2.239829</td>\n",
              "      <td>3.551340</td>\n",
              "    </tr>\n",
              "    <tr>\n",
              "      <th>3</th>\n",
              "      <td>0.491187</td>\n",
              "      <td>0.795140</td>\n",
              "      <td>-0.846733</td>\n",
              "      <td>2.174405</td>\n",
              "      <td>-1.038638</td>\n",
              "      <td>-0.526262</td>\n",
              "      <td>-2.239829</td>\n",
              "      <td>5.055221</td>\n",
              "    </tr>\n",
              "    <tr>\n",
              "      <th>4</th>\n",
              "      <td>-0.790075</td>\n",
              "      <td>0.678079</td>\n",
              "      <td>-0.846733</td>\n",
              "      <td>0.488555</td>\n",
              "      <td>-1.038638</td>\n",
              "      <td>0.070492</td>\n",
              "      <td>0.647569</td>\n",
              "      <td>4.976069</td>\n",
              "    </tr>\n",
              "  </tbody>\n",
              "</table>\n",
              "</div>"
            ],
            "text/plain": [
              "     Cement  Blast Furnace Slag  ...  Fine Aggregate       Age\n",
              "0  2.476712           -0.856472  ...       -1.217079 -0.279597\n",
              "1  2.476712           -0.856472  ...       -1.217079 -0.279597\n",
              "2  0.491187            0.795140  ...       -2.239829  3.551340\n",
              "3  0.491187            0.795140  ...       -2.239829  5.055221\n",
              "4 -0.790075            0.678079  ...        0.647569  4.976069\n",
              "\n",
              "[5 rows x 8 columns]"
            ]
          },
          "metadata": {
            "tags": []
          },
          "execution_count": 53
        }
      ]
    },
    {
      "cell_type": "code",
      "metadata": {
        "id": "dXXOwK58t8jc",
        "colab_type": "code",
        "colab": {}
      },
      "source": [
        "n_cols = predictors_norm.shape[1] # number of predictors"
      ],
      "execution_count": 54,
      "outputs": []
    },
    {
      "cell_type": "markdown",
      "metadata": {
        "id": "W5MtFT3rtpjD",
        "colab_type": "text"
      },
      "source": [
        "Build Regresion Model"
      ]
    },
    {
      "cell_type": "code",
      "metadata": {
        "id": "FaG-uWKOuNBT",
        "colab_type": "code",
        "colab": {}
      },
      "source": [
        "from keras.models import Sequential\n",
        "from keras.layers import Dense"
      ],
      "execution_count": 55,
      "outputs": []
    },
    {
      "cell_type": "markdown",
      "metadata": {
        "id": "HrTs9Qz42R_x",
        "colab_type": "text"
      },
      "source": [
        "Regression model with Neural Network with 3 Hidden Layers"
      ]
    },
    {
      "cell_type": "code",
      "metadata": {
        "id": "tLkaEpBltt1Y",
        "colab_type": "code",
        "colab": {}
      },
      "source": [
        "# define regression model\n",
        "def regression_model():\n",
        "    # create model\n",
        "    model = Sequential()\n",
        "    model.add(Dense(10, activation='relu', input_shape=(n_cols,)))\n",
        "    model.add(Dense(10, activation='relu'))\n",
        "    model.add(Dense(10, activation='relu'))\n",
        "    model.add(Dense(1))\n",
        "    \n",
        "    # compile model\n",
        "    model.compile(optimizer='adam', loss='mean_squared_error')\n",
        "    return model"
      ],
      "execution_count": 56,
      "outputs": []
    },
    {
      "cell_type": "markdown",
      "metadata": {
        "id": "FLSKucn0tJrd",
        "colab_type": "text"
      },
      "source": [
        "1. Randomly split the data into a training and test sets by holding 30% of the data for testing. You can use the train_test_splithelper function from Scikit-learn."
      ]
    },
    {
      "cell_type": "code",
      "metadata": {
        "id": "2W-GHV33tKtq",
        "colab_type": "code",
        "colab": {}
      },
      "source": [
        "from sklearn.model_selection import train_test_split\n",
        "x_train, x_test, y_train,y_test = train_test_split(predictors_norm,target, test_size=0.3, random_state=20)"
      ],
      "execution_count": 57,
      "outputs": []
    },
    {
      "cell_type": "markdown",
      "metadata": {
        "id": "WlhS9p0muA3j",
        "colab_type": "text"
      },
      "source": [
        "2. Train the model on the training data using 100 epochs."
      ]
    },
    {
      "cell_type": "code",
      "metadata": {
        "id": "0MJ8w9Rut_cU",
        "colab_type": "code",
        "colab": {
          "base_uri": "https://localhost:8080/",
          "height": 1000
        },
        "outputId": "2a9efe81-9e2b-4183-9dba-8e1176d320d0"
      },
      "source": [
        "# build the model\n",
        "model = regression_model()\n",
        "# fit the model\n",
        "model.fit(x_train, y_train, epochs=50, verbose=1)"
      ],
      "execution_count": 58,
      "outputs": [
        {
          "output_type": "stream",
          "text": [
            "Epoch 1/50\n",
            "721/721 [==============================] - 0s 167us/step - loss: 1526.9261\n",
            "Epoch 2/50\n",
            "721/721 [==============================] - 0s 37us/step - loss: 1504.1471\n",
            "Epoch 3/50\n",
            "721/721 [==============================] - 0s 38us/step - loss: 1468.4361\n",
            "Epoch 4/50\n",
            "721/721 [==============================] - 0s 38us/step - loss: 1414.0316\n",
            "Epoch 5/50\n",
            "721/721 [==============================] - 0s 40us/step - loss: 1333.9923\n",
            "Epoch 6/50\n",
            "721/721 [==============================] - 0s 34us/step - loss: 1219.2701\n",
            "Epoch 7/50\n",
            "721/721 [==============================] - 0s 44us/step - loss: 1063.0089\n",
            "Epoch 8/50\n",
            "721/721 [==============================] - 0s 38us/step - loss: 857.5986\n",
            "Epoch 9/50\n",
            "721/721 [==============================] - 0s 50us/step - loss: 629.6669\n",
            "Epoch 10/50\n",
            "721/721 [==============================] - 0s 36us/step - loss: 433.7294\n",
            "Epoch 11/50\n",
            "721/721 [==============================] - 0s 36us/step - loss: 312.8692\n",
            "Epoch 12/50\n",
            "721/721 [==============================] - 0s 36us/step - loss: 262.3226\n",
            "Epoch 13/50\n",
            "721/721 [==============================] - 0s 36us/step - loss: 241.2750\n",
            "Epoch 14/50\n",
            "721/721 [==============================] - 0s 35us/step - loss: 229.1138\n",
            "Epoch 15/50\n",
            "721/721 [==============================] - 0s 39us/step - loss: 218.9120\n",
            "Epoch 16/50\n",
            "721/721 [==============================] - 0s 44us/step - loss: 211.4966\n",
            "Epoch 17/50\n",
            "721/721 [==============================] - 0s 43us/step - loss: 204.7161\n",
            "Epoch 18/50\n",
            "721/721 [==============================] - 0s 42us/step - loss: 199.2205\n",
            "Epoch 19/50\n",
            "721/721 [==============================] - 0s 40us/step - loss: 194.4066\n",
            "Epoch 20/50\n",
            "721/721 [==============================] - 0s 44us/step - loss: 190.2862\n",
            "Epoch 21/50\n",
            "721/721 [==============================] - 0s 41us/step - loss: 186.2156\n",
            "Epoch 22/50\n",
            "721/721 [==============================] - 0s 42us/step - loss: 183.1314\n",
            "Epoch 23/50\n",
            "721/721 [==============================] - 0s 40us/step - loss: 180.5418\n",
            "Epoch 24/50\n",
            "721/721 [==============================] - 0s 37us/step - loss: 177.6784\n",
            "Epoch 25/50\n",
            "721/721 [==============================] - 0s 39us/step - loss: 175.8640\n",
            "Epoch 26/50\n",
            "721/721 [==============================] - 0s 40us/step - loss: 173.3253\n",
            "Epoch 27/50\n",
            "721/721 [==============================] - 0s 47us/step - loss: 171.4562\n",
            "Epoch 28/50\n",
            "721/721 [==============================] - 0s 36us/step - loss: 169.5218\n",
            "Epoch 29/50\n",
            "721/721 [==============================] - 0s 40us/step - loss: 167.7934\n",
            "Epoch 30/50\n",
            "721/721 [==============================] - 0s 40us/step - loss: 166.1715\n",
            "Epoch 31/50\n",
            "721/721 [==============================] - 0s 40us/step - loss: 164.3196\n",
            "Epoch 32/50\n",
            "721/721 [==============================] - 0s 40us/step - loss: 163.0118\n",
            "Epoch 33/50\n",
            "721/721 [==============================] - 0s 39us/step - loss: 161.2135\n",
            "Epoch 34/50\n",
            "721/721 [==============================] - 0s 41us/step - loss: 159.9826\n",
            "Epoch 35/50\n",
            "721/721 [==============================] - 0s 41us/step - loss: 158.6187\n",
            "Epoch 36/50\n",
            "721/721 [==============================] - 0s 40us/step - loss: 157.4517\n",
            "Epoch 37/50\n",
            "721/721 [==============================] - 0s 43us/step - loss: 156.2863\n",
            "Epoch 38/50\n",
            "721/721 [==============================] - 0s 41us/step - loss: 155.3604\n",
            "Epoch 39/50\n",
            "721/721 [==============================] - 0s 45us/step - loss: 154.1017\n",
            "Epoch 40/50\n",
            "721/721 [==============================] - 0s 53us/step - loss: 153.2365\n",
            "Epoch 41/50\n",
            "721/721 [==============================] - 0s 43us/step - loss: 151.9474\n",
            "Epoch 42/50\n",
            "721/721 [==============================] - 0s 48us/step - loss: 151.0216\n",
            "Epoch 43/50\n",
            "721/721 [==============================] - 0s 36us/step - loss: 150.3281\n",
            "Epoch 44/50\n",
            "721/721 [==============================] - 0s 36us/step - loss: 149.2705\n",
            "Epoch 45/50\n",
            "721/721 [==============================] - 0s 35us/step - loss: 148.5860\n",
            "Epoch 46/50\n",
            "721/721 [==============================] - 0s 38us/step - loss: 147.4881\n",
            "Epoch 47/50\n",
            "721/721 [==============================] - 0s 35us/step - loss: 146.9100\n",
            "Epoch 48/50\n",
            "721/721 [==============================] - 0s 39us/step - loss: 146.0658\n",
            "Epoch 49/50\n",
            "721/721 [==============================] - 0s 35us/step - loss: 145.4025\n",
            "Epoch 50/50\n",
            "721/721 [==============================] - 0s 38us/step - loss: 144.6609\n"
          ],
          "name": "stdout"
        },
        {
          "output_type": "execute_result",
          "data": {
            "text/plain": [
              "<keras.callbacks.callbacks.History at 0x7fc34c41ecc0>"
            ]
          },
          "metadata": {
            "tags": []
          },
          "execution_count": 58
        }
      ]
    },
    {
      "cell_type": "markdown",
      "metadata": {
        "id": "amMMq4mgvtZu",
        "colab_type": "text"
      },
      "source": [
        "3. Evaluate the model on the test data and compute the mean squared error between the predicted concrete strength and the actual concrete strength. You can use the mean_squared_error function from Scikit-learn."
      ]
    },
    {
      "cell_type": "code",
      "metadata": {
        "id": "BOAa0OrYxQ1P",
        "colab_type": "code",
        "colab": {
          "base_uri": "https://localhost:8080/",
          "height": 50
        },
        "outputId": "db547ef0-bc90-4fe7-b273-977e31889c56"
      },
      "source": [
        "MSE = model.evaluate(x_test,y_test)\n",
        "MSE"
      ],
      "execution_count": 59,
      "outputs": [
        {
          "output_type": "stream",
          "text": [
            "309/309 [==============================] - 0s 60us/step\n"
          ],
          "name": "stdout"
        },
        {
          "output_type": "execute_result",
          "data": {
            "text/plain": [
              "144.71208042774384"
            ]
          },
          "metadata": {
            "tags": []
          },
          "execution_count": 59
        }
      ]
    },
    {
      "cell_type": "code",
      "metadata": {
        "id": "R1XX-ncJufAv",
        "colab_type": "code",
        "colab": {}
      },
      "source": [
        "from sklearn.metrics import mean_squared_error\n",
        "ypred = model.predict(x_test)\n",
        "mse = mean_squared_error(y_test,ypred)\n",
        "mean_mse = np.mean(mse)\n",
        "std_mse = np.std(mse)\n"
      ],
      "execution_count": 60,
      "outputs": []
    },
    {
      "cell_type": "code",
      "metadata": {
        "id": "B2ByWVIRwLXC",
        "colab_type": "code",
        "colab": {
          "base_uri": "https://localhost:8080/",
          "height": 50
        },
        "outputId": "276ac9ea-5962-427f-96ea-f439ca686392"
      },
      "source": [
        "print(\"mean : \"+str(mean_mse) + \"\\nStandar deviasi : \"+str(std_mse))"
      ],
      "execution_count": 61,
      "outputs": [
        {
          "output_type": "stream",
          "text": [
            "mean : 144.7120800345338\n",
            "Standar deviasi : 0.0\n"
          ],
          "name": "stdout"
        }
      ]
    },
    {
      "cell_type": "markdown",
      "metadata": {
        "id": "7X5eCghLwmn0",
        "colab_type": "text"
      },
      "source": [
        "4. Repeat steps 1 - 3, 50 times, i.e., create a list of 50 mean squared errors"
      ]
    },
    {
      "cell_type": "code",
      "metadata": {
        "id": "2vg37h2bwdu4",
        "colab_type": "code",
        "colab": {
          "base_uri": "https://localhost:8080/",
          "height": 1000
        },
        "outputId": "67f4943d-b6c2-4f2e-ee5d-12d50b9d2f0f"
      },
      "source": [
        "total_mse = 50\n",
        "list_mse = []\n",
        "for i in range(0,total_mse):\n",
        "  x_train, x_test, y_train,y_test = train_test_split(predictors_norm,target, test_size=0.3, random_state=20)\n",
        "  model = regression_model()\n",
        "  model.fit(x_train, y_train, epochs=50, verbose=0)\n",
        "  MSE_model = model.evaluate(x_test,y_test)\n",
        "  print(\"MSE \"+str(i+1)+ \" is \"+str(MSE_model))\n",
        "  ypred = model.predict(x_test)\n",
        "  mse = mean_squared_error(y_test,ypred)\n",
        "  list_mse.append(mse)\n"
      ],
      "execution_count": 62,
      "outputs": [
        {
          "output_type": "stream",
          "text": [
            "309/309 [==============================] - 0s 68us/step\n",
            "MSE 1 is 120.44238854071855\n",
            "309/309 [==============================] - 0s 78us/step\n",
            "MSE 2 is 125.50799224754753\n",
            "309/309 [==============================] - 0s 52us/step\n",
            "MSE 3 is 137.87463072742844\n",
            "309/309 [==============================] - 0s 71us/step\n",
            "MSE 4 is 110.16260805099142\n",
            "309/309 [==============================] - 0s 68us/step\n",
            "MSE 5 is 132.3999524656623\n",
            "309/309 [==============================] - 0s 66us/step\n",
            "MSE 6 is 124.582949888359\n",
            "309/309 [==============================] - 0s 63us/step\n",
            "MSE 7 is 131.786656401304\n",
            "309/309 [==============================] - 0s 60us/step\n",
            "MSE 8 is 132.17733014054284\n",
            "309/309 [==============================] - 0s 72us/step\n",
            "MSE 9 is 136.42964043972177\n",
            "309/309 [==============================] - 0s 67us/step\n",
            "MSE 10 is 129.26867384432202\n",
            "309/309 [==============================] - 0s 61us/step\n",
            "MSE 11 is 107.00928210903525\n",
            "309/309 [==============================] - 0s 60us/step\n",
            "MSE 12 is 122.31715600467423\n",
            "309/309 [==============================] - 0s 67us/step\n",
            "MSE 13 is 136.38781318541098\n",
            "309/309 [==============================] - 0s 58us/step\n",
            "MSE 14 is 123.20956559165782\n",
            "309/309 [==============================] - 0s 68us/step\n",
            "MSE 15 is 138.51255027993213\n",
            "309/309 [==============================] - 0s 53us/step\n",
            "MSE 16 is 116.95436288778065\n",
            "309/309 [==============================] - 0s 58us/step\n",
            "MSE 17 is 127.08068067433379\n",
            "309/309 [==============================] - 0s 54us/step\n",
            "MSE 18 is 125.57860473830337\n",
            "309/309 [==============================] - 0s 69us/step\n",
            "MSE 19 is 134.8378045535782\n",
            "309/309 [==============================] - 0s 57us/step\n",
            "MSE 20 is 119.26472245991037\n",
            "309/309 [==============================] - 0s 62us/step\n",
            "MSE 21 is 130.81662021871523\n",
            "309/309 [==============================] - 0s 64us/step\n",
            "MSE 22 is 123.05472735062386\n",
            "309/309 [==============================] - 0s 61us/step\n",
            "MSE 23 is 127.4967980245942\n",
            "309/309 [==============================] - 0s 57us/step\n",
            "MSE 24 is 107.38372595333358\n",
            "309/309 [==============================] - 0s 64us/step\n",
            "MSE 25 is 124.31598591727347\n",
            "309/309 [==============================] - 0s 60us/step\n",
            "MSE 26 is 137.5227954457107\n",
            "309/309 [==============================] - 0s 82us/step\n",
            "MSE 27 is 109.27006918404095\n",
            "309/309 [==============================] - 0s 57us/step\n",
            "MSE 28 is 137.51991222591462\n",
            "309/309 [==============================] - 0s 57us/step\n",
            "MSE 29 is 140.99508973155594\n",
            "309/309 [==============================] - 0s 72us/step\n",
            "MSE 30 is 131.11417959268812\n",
            "309/309 [==============================] - 0s 55us/step\n",
            "MSE 31 is 122.94787839624102\n",
            "309/309 [==============================] - 0s 57us/step\n",
            "MSE 32 is 131.05811820909815\n",
            "309/309 [==============================] - 0s 57us/step\n",
            "MSE 33 is 102.80258892269197\n",
            "309/309 [==============================] - 0s 63us/step\n",
            "MSE 34 is 83.75390002796951\n",
            "309/309 [==============================] - 0s 60us/step\n",
            "MSE 35 is 130.1084976443195\n",
            "309/309 [==============================] - 0s 65us/step\n",
            "MSE 36 is 125.14867428282703\n",
            "309/309 [==============================] - 0s 69us/step\n",
            "MSE 37 is 121.5693270982662\n",
            "309/309 [==============================] - 0s 60us/step\n",
            "MSE 38 is 122.20074932011971\n",
            "309/309 [==============================] - 0s 71us/step\n",
            "MSE 39 is 119.04986280916579\n",
            "309/309 [==============================] - 0s 57us/step\n",
            "MSE 40 is 106.60166012662128\n",
            "309/309 [==============================] - 0s 64us/step\n",
            "MSE 41 is 114.3413533824933\n",
            "309/309 [==============================] - 0s 59us/step\n",
            "MSE 42 is 109.56258236783222\n",
            "309/309 [==============================] - 0s 56us/step\n",
            "MSE 43 is 132.72846663885517\n",
            "309/309 [==============================] - 0s 67us/step\n",
            "MSE 44 is 116.5993020758274\n",
            "309/309 [==============================] - 0s 60us/step\n",
            "MSE 45 is 107.38206946116821\n",
            "309/309 [==============================] - 0s 67us/step\n",
            "MSE 46 is 115.28585622843029\n",
            "309/309 [==============================] - 0s 55us/step\n",
            "MSE 47 is 134.04025006834357\n",
            "309/309 [==============================] - 0s 63us/step\n",
            "MSE 48 is 104.81866055090451\n",
            "309/309 [==============================] - 0s 58us/step\n",
            "MSE 49 is 122.79026063591917\n",
            "309/309 [==============================] - 0s 57us/step\n",
            "MSE 50 is 115.0665388878881\n"
          ],
          "name": "stdout"
        }
      ]
    },
    {
      "cell_type": "markdown",
      "metadata": {
        "id": "wvGkiOF1zhnv",
        "colab_type": "text"
      },
      "source": [
        "5. Report the mean and the standard deviation of the mean squared errors."
      ]
    },
    {
      "cell_type": "code",
      "metadata": {
        "id": "N_m1b4PlyuRH",
        "colab_type": "code",
        "colab": {
          "base_uri": "https://localhost:8080/",
          "height": 50
        },
        "outputId": "9957fab7-fe8a-4649-c96a-ad25827b88d3"
      },
      "source": [
        "list_mse = np.array(list_mse)\n",
        "total_mean = np.mean(list_mse)\n",
        "total_std = np.std(list_mse)\n",
        "print(\"Mean : \"+str(total_mean))\n",
        "print(\"Standar devisi : \"+str(total_std))"
      ],
      "execution_count": 63,
      "outputs": [
        {
          "output_type": "stream",
          "text": [
            "Mean : 122.78263448938246\n",
            "Standar devisi : 11.533260759302971\n"
          ],
          "name": "stdout"
        }
      ]
    },
    {
      "cell_type": "code",
      "metadata": {
        "id": "j5NrIotp0za9",
        "colab_type": "code",
        "colab": {}
      },
      "source": [
        ""
      ],
      "execution_count": 63,
      "outputs": []
    }
  ]
}