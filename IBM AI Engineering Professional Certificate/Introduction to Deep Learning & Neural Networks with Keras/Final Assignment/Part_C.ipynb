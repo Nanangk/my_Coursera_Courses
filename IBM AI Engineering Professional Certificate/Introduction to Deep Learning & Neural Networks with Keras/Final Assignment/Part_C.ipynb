{
  "nbformat": 4,
  "nbformat_minor": 0,
  "metadata": {
    "colab": {
      "name": "Part C.ipynb",
      "provenance": []
    },
    "kernelspec": {
      "name": "python3",
      "display_name": "Python 3"
    }
  },
  "cells": [
    {
      "cell_type": "markdown",
      "metadata": {
        "id": "QEMvvkqK1E7v",
        "colab_type": "text"
      },
      "source": [
        "Repeat Part B but use 100 epochs this time for training."
      ]
    },
    {
      "cell_type": "markdown",
      "metadata": {
        "id": "2GMI2NHvsxib",
        "colab_type": "text"
      },
      "source": [
        "Download and Clean Dataset"
      ]
    },
    {
      "cell_type": "code",
      "metadata": {
        "id": "J6WsZoBPs1oE",
        "colab_type": "code",
        "colab": {}
      },
      "source": [
        "import pandas as pd\n",
        "import numpy as np"
      ],
      "execution_count": 35,
      "outputs": []
    },
    {
      "cell_type": "code",
      "metadata": {
        "id": "cuLGJJVGs4IE",
        "colab_type": "code",
        "colab": {
          "base_uri": "https://localhost:8080/",
          "height": 196
        },
        "outputId": "5a7787e9-716a-4abd-f46e-fbabc01acb4d"
      },
      "source": [
        "concrete_data = pd.read_csv('https://s3-api.us-geo.objectstorage.softlayer.net/cf-courses-data/CognitiveClass/DL0101EN/labs/data/concrete_data.csv')\n",
        "concrete_data.head()"
      ],
      "execution_count": 36,
      "outputs": [
        {
          "output_type": "execute_result",
          "data": {
            "text/html": [
              "<div>\n",
              "<style scoped>\n",
              "    .dataframe tbody tr th:only-of-type {\n",
              "        vertical-align: middle;\n",
              "    }\n",
              "\n",
              "    .dataframe tbody tr th {\n",
              "        vertical-align: top;\n",
              "    }\n",
              "\n",
              "    .dataframe thead th {\n",
              "        text-align: right;\n",
              "    }\n",
              "</style>\n",
              "<table border=\"1\" class=\"dataframe\">\n",
              "  <thead>\n",
              "    <tr style=\"text-align: right;\">\n",
              "      <th></th>\n",
              "      <th>Cement</th>\n",
              "      <th>Blast Furnace Slag</th>\n",
              "      <th>Fly Ash</th>\n",
              "      <th>Water</th>\n",
              "      <th>Superplasticizer</th>\n",
              "      <th>Coarse Aggregate</th>\n",
              "      <th>Fine Aggregate</th>\n",
              "      <th>Age</th>\n",
              "      <th>Strength</th>\n",
              "    </tr>\n",
              "  </thead>\n",
              "  <tbody>\n",
              "    <tr>\n",
              "      <th>0</th>\n",
              "      <td>540.0</td>\n",
              "      <td>0.0</td>\n",
              "      <td>0.0</td>\n",
              "      <td>162.0</td>\n",
              "      <td>2.5</td>\n",
              "      <td>1040.0</td>\n",
              "      <td>676.0</td>\n",
              "      <td>28</td>\n",
              "      <td>79.99</td>\n",
              "    </tr>\n",
              "    <tr>\n",
              "      <th>1</th>\n",
              "      <td>540.0</td>\n",
              "      <td>0.0</td>\n",
              "      <td>0.0</td>\n",
              "      <td>162.0</td>\n",
              "      <td>2.5</td>\n",
              "      <td>1055.0</td>\n",
              "      <td>676.0</td>\n",
              "      <td>28</td>\n",
              "      <td>61.89</td>\n",
              "    </tr>\n",
              "    <tr>\n",
              "      <th>2</th>\n",
              "      <td>332.5</td>\n",
              "      <td>142.5</td>\n",
              "      <td>0.0</td>\n",
              "      <td>228.0</td>\n",
              "      <td>0.0</td>\n",
              "      <td>932.0</td>\n",
              "      <td>594.0</td>\n",
              "      <td>270</td>\n",
              "      <td>40.27</td>\n",
              "    </tr>\n",
              "    <tr>\n",
              "      <th>3</th>\n",
              "      <td>332.5</td>\n",
              "      <td>142.5</td>\n",
              "      <td>0.0</td>\n",
              "      <td>228.0</td>\n",
              "      <td>0.0</td>\n",
              "      <td>932.0</td>\n",
              "      <td>594.0</td>\n",
              "      <td>365</td>\n",
              "      <td>41.05</td>\n",
              "    </tr>\n",
              "    <tr>\n",
              "      <th>4</th>\n",
              "      <td>198.6</td>\n",
              "      <td>132.4</td>\n",
              "      <td>0.0</td>\n",
              "      <td>192.0</td>\n",
              "      <td>0.0</td>\n",
              "      <td>978.4</td>\n",
              "      <td>825.5</td>\n",
              "      <td>360</td>\n",
              "      <td>44.30</td>\n",
              "    </tr>\n",
              "  </tbody>\n",
              "</table>\n",
              "</div>"
            ],
            "text/plain": [
              "   Cement  Blast Furnace Slag  Fly Ash  ...  Fine Aggregate  Age  Strength\n",
              "0   540.0                 0.0      0.0  ...           676.0   28     79.99\n",
              "1   540.0                 0.0      0.0  ...           676.0   28     61.89\n",
              "2   332.5               142.5      0.0  ...           594.0  270     40.27\n",
              "3   332.5               142.5      0.0  ...           594.0  365     41.05\n",
              "4   198.6               132.4      0.0  ...           825.5  360     44.30\n",
              "\n",
              "[5 rows x 9 columns]"
            ]
          },
          "metadata": {
            "tags": []
          },
          "execution_count": 36
        }
      ]
    },
    {
      "cell_type": "code",
      "metadata": {
        "id": "ncPuy7zzs6du",
        "colab_type": "code",
        "colab": {}
      },
      "source": [
        "concrete_data_columns = concrete_data.columns\n",
        "\n",
        "predictors = concrete_data[concrete_data_columns[concrete_data_columns != 'Strength']] # all columns except Strength\n",
        "target = concrete_data['Strength'] # Strength column"
      ],
      "execution_count": 37,
      "outputs": []
    },
    {
      "cell_type": "markdown",
      "metadata": {
        "id": "7qdMlTXrz_wz",
        "colab_type": "text"
      },
      "source": [
        "#use a normalized version of the data"
      ]
    },
    {
      "cell_type": "code",
      "metadata": {
        "id": "F7FlJr8Tz-nb",
        "colab_type": "code",
        "colab": {
          "base_uri": "https://localhost:8080/",
          "height": 196
        },
        "outputId": "4bfbc7af-4be0-44d1-f0be-7b1d990710cd"
      },
      "source": [
        "predictors_norm = (predictors - predictors.mean()) / predictors.std()\n",
        "predictors_norm.head()"
      ],
      "execution_count": 38,
      "outputs": [
        {
          "output_type": "execute_result",
          "data": {
            "text/html": [
              "<div>\n",
              "<style scoped>\n",
              "    .dataframe tbody tr th:only-of-type {\n",
              "        vertical-align: middle;\n",
              "    }\n",
              "\n",
              "    .dataframe tbody tr th {\n",
              "        vertical-align: top;\n",
              "    }\n",
              "\n",
              "    .dataframe thead th {\n",
              "        text-align: right;\n",
              "    }\n",
              "</style>\n",
              "<table border=\"1\" class=\"dataframe\">\n",
              "  <thead>\n",
              "    <tr style=\"text-align: right;\">\n",
              "      <th></th>\n",
              "      <th>Cement</th>\n",
              "      <th>Blast Furnace Slag</th>\n",
              "      <th>Fly Ash</th>\n",
              "      <th>Water</th>\n",
              "      <th>Superplasticizer</th>\n",
              "      <th>Coarse Aggregate</th>\n",
              "      <th>Fine Aggregate</th>\n",
              "      <th>Age</th>\n",
              "    </tr>\n",
              "  </thead>\n",
              "  <tbody>\n",
              "    <tr>\n",
              "      <th>0</th>\n",
              "      <td>2.476712</td>\n",
              "      <td>-0.856472</td>\n",
              "      <td>-0.846733</td>\n",
              "      <td>-0.916319</td>\n",
              "      <td>-0.620147</td>\n",
              "      <td>0.862735</td>\n",
              "      <td>-1.217079</td>\n",
              "      <td>-0.279597</td>\n",
              "    </tr>\n",
              "    <tr>\n",
              "      <th>1</th>\n",
              "      <td>2.476712</td>\n",
              "      <td>-0.856472</td>\n",
              "      <td>-0.846733</td>\n",
              "      <td>-0.916319</td>\n",
              "      <td>-0.620147</td>\n",
              "      <td>1.055651</td>\n",
              "      <td>-1.217079</td>\n",
              "      <td>-0.279597</td>\n",
              "    </tr>\n",
              "    <tr>\n",
              "      <th>2</th>\n",
              "      <td>0.491187</td>\n",
              "      <td>0.795140</td>\n",
              "      <td>-0.846733</td>\n",
              "      <td>2.174405</td>\n",
              "      <td>-1.038638</td>\n",
              "      <td>-0.526262</td>\n",
              "      <td>-2.239829</td>\n",
              "      <td>3.551340</td>\n",
              "    </tr>\n",
              "    <tr>\n",
              "      <th>3</th>\n",
              "      <td>0.491187</td>\n",
              "      <td>0.795140</td>\n",
              "      <td>-0.846733</td>\n",
              "      <td>2.174405</td>\n",
              "      <td>-1.038638</td>\n",
              "      <td>-0.526262</td>\n",
              "      <td>-2.239829</td>\n",
              "      <td>5.055221</td>\n",
              "    </tr>\n",
              "    <tr>\n",
              "      <th>4</th>\n",
              "      <td>-0.790075</td>\n",
              "      <td>0.678079</td>\n",
              "      <td>-0.846733</td>\n",
              "      <td>0.488555</td>\n",
              "      <td>-1.038638</td>\n",
              "      <td>0.070492</td>\n",
              "      <td>0.647569</td>\n",
              "      <td>4.976069</td>\n",
              "    </tr>\n",
              "  </tbody>\n",
              "</table>\n",
              "</div>"
            ],
            "text/plain": [
              "     Cement  Blast Furnace Slag  ...  Fine Aggregate       Age\n",
              "0  2.476712           -0.856472  ...       -1.217079 -0.279597\n",
              "1  2.476712           -0.856472  ...       -1.217079 -0.279597\n",
              "2  0.491187            0.795140  ...       -2.239829  3.551340\n",
              "3  0.491187            0.795140  ...       -2.239829  5.055221\n",
              "4 -0.790075            0.678079  ...        0.647569  4.976069\n",
              "\n",
              "[5 rows x 8 columns]"
            ]
          },
          "metadata": {
            "tags": []
          },
          "execution_count": 38
        }
      ]
    },
    {
      "cell_type": "code",
      "metadata": {
        "id": "dXXOwK58t8jc",
        "colab_type": "code",
        "colab": {}
      },
      "source": [
        "n_cols = predictors_norm.shape[1] # number of predictors"
      ],
      "execution_count": 39,
      "outputs": []
    },
    {
      "cell_type": "markdown",
      "metadata": {
        "id": "W5MtFT3rtpjD",
        "colab_type": "text"
      },
      "source": [
        "Build Regresion Model"
      ]
    },
    {
      "cell_type": "code",
      "metadata": {
        "id": "FaG-uWKOuNBT",
        "colab_type": "code",
        "colab": {}
      },
      "source": [
        "from keras.models import Sequential\n",
        "from keras.layers import Dense"
      ],
      "execution_count": 40,
      "outputs": []
    },
    {
      "cell_type": "code",
      "metadata": {
        "id": "tLkaEpBltt1Y",
        "colab_type": "code",
        "colab": {}
      },
      "source": [
        "# define regression model\n",
        "def regression_model():\n",
        "    # create model\n",
        "    model = Sequential()\n",
        "    model.add(Dense(50, activation='relu', input_shape=(n_cols,)))\n",
        "    model.add(Dense(1))\n",
        "    \n",
        "    # compile model\n",
        "    model.compile(optimizer='adam', loss='mean_squared_error')\n",
        "    return model"
      ],
      "execution_count": 41,
      "outputs": []
    },
    {
      "cell_type": "markdown",
      "metadata": {
        "id": "FLSKucn0tJrd",
        "colab_type": "text"
      },
      "source": [
        "1. Randomly split the data into a training and test sets by holding 30% of the data for testing. You can use the train_test_splithelper function from Scikit-learn."
      ]
    },
    {
      "cell_type": "code",
      "metadata": {
        "id": "2W-GHV33tKtq",
        "colab_type": "code",
        "colab": {}
      },
      "source": [
        "from sklearn.model_selection import train_test_split\n",
        "x_train, x_test, y_train,y_test = train_test_split(predictors_norm,target, test_size=0.3, random_state=20)"
      ],
      "execution_count": 42,
      "outputs": []
    },
    {
      "cell_type": "markdown",
      "metadata": {
        "id": "WlhS9p0muA3j",
        "colab_type": "text"
      },
      "source": [
        "2. Train the model on the training data using 100 epochs."
      ]
    },
    {
      "cell_type": "code",
      "metadata": {
        "id": "0MJ8w9Rut_cU",
        "colab_type": "code",
        "colab": {
          "base_uri": "https://localhost:8080/",
          "height": 1000
        },
        "outputId": "c80aaee3-306a-4565-da2d-a67e738f3be3"
      },
      "source": [
        "# build the model\n",
        "model = regression_model()\n",
        "# fit the model\n",
        "model.fit(x_train, y_train, epochs=100, verbose=1)"
      ],
      "execution_count": 43,
      "outputs": [
        {
          "output_type": "stream",
          "text": [
            "Epoch 1/100\n",
            "721/721 [==============================] - 0s 120us/step - loss: 1562.3048\n",
            "Epoch 2/100\n",
            "721/721 [==============================] - 0s 29us/step - loss: 1525.3710\n",
            "Epoch 3/100\n",
            "721/721 [==============================] - 0s 29us/step - loss: 1487.9718\n",
            "Epoch 4/100\n",
            "721/721 [==============================] - 0s 28us/step - loss: 1449.2847\n",
            "Epoch 5/100\n",
            "721/721 [==============================] - 0s 29us/step - loss: 1406.6551\n",
            "Epoch 6/100\n",
            "721/721 [==============================] - 0s 29us/step - loss: 1359.6629\n",
            "Epoch 7/100\n",
            "721/721 [==============================] - 0s 29us/step - loss: 1307.5674\n",
            "Epoch 8/100\n",
            "721/721 [==============================] - 0s 28us/step - loss: 1250.1102\n",
            "Epoch 9/100\n",
            "721/721 [==============================] - 0s 29us/step - loss: 1186.7023\n",
            "Epoch 10/100\n",
            "721/721 [==============================] - 0s 35us/step - loss: 1117.2880\n",
            "Epoch 11/100\n",
            "721/721 [==============================] - 0s 34us/step - loss: 1044.0970\n",
            "Epoch 12/100\n",
            "721/721 [==============================] - 0s 29us/step - loss: 966.5339\n",
            "Epoch 13/100\n",
            "721/721 [==============================] - 0s 28us/step - loss: 888.3779\n",
            "Epoch 14/100\n",
            "721/721 [==============================] - 0s 31us/step - loss: 809.3932\n",
            "Epoch 15/100\n",
            "721/721 [==============================] - 0s 33us/step - loss: 732.1663\n",
            "Epoch 16/100\n",
            "721/721 [==============================] - 0s 35us/step - loss: 659.7501\n",
            "Epoch 17/100\n",
            "721/721 [==============================] - 0s 33us/step - loss: 591.3888\n",
            "Epoch 18/100\n",
            "721/721 [==============================] - 0s 33us/step - loss: 528.3600\n",
            "Epoch 19/100\n",
            "721/721 [==============================] - 0s 32us/step - loss: 472.3581\n",
            "Epoch 20/100\n",
            "721/721 [==============================] - 0s 31us/step - loss: 424.2236\n",
            "Epoch 21/100\n",
            "721/721 [==============================] - 0s 34us/step - loss: 382.1062\n",
            "Epoch 22/100\n",
            "721/721 [==============================] - 0s 31us/step - loss: 346.4645\n",
            "Epoch 23/100\n",
            "721/721 [==============================] - 0s 32us/step - loss: 317.7023\n",
            "Epoch 24/100\n",
            "721/721 [==============================] - 0s 31us/step - loss: 293.7770\n",
            "Epoch 25/100\n",
            "721/721 [==============================] - 0s 30us/step - loss: 274.7882\n",
            "Epoch 26/100\n",
            "721/721 [==============================] - 0s 30us/step - loss: 259.1290\n",
            "Epoch 27/100\n",
            "721/721 [==============================] - 0s 31us/step - loss: 246.5856\n",
            "Epoch 28/100\n",
            "721/721 [==============================] - 0s 32us/step - loss: 236.1559\n",
            "Epoch 29/100\n",
            "721/721 [==============================] - 0s 30us/step - loss: 227.4069\n",
            "Epoch 30/100\n",
            "721/721 [==============================] - 0s 32us/step - loss: 219.9980\n",
            "Epoch 31/100\n",
            "721/721 [==============================] - 0s 33us/step - loss: 213.7810\n",
            "Epoch 32/100\n",
            "721/721 [==============================] - 0s 33us/step - loss: 207.7446\n",
            "Epoch 33/100\n",
            "721/721 [==============================] - 0s 33us/step - loss: 202.6804\n",
            "Epoch 34/100\n",
            "721/721 [==============================] - 0s 30us/step - loss: 197.9828\n",
            "Epoch 35/100\n",
            "721/721 [==============================] - 0s 29us/step - loss: 193.7285\n",
            "Epoch 36/100\n",
            "721/721 [==============================] - 0s 30us/step - loss: 189.6408\n",
            "Epoch 37/100\n",
            "721/721 [==============================] - 0s 29us/step - loss: 185.8689\n",
            "Epoch 38/100\n",
            "721/721 [==============================] - 0s 31us/step - loss: 182.1990\n",
            "Epoch 39/100\n",
            "721/721 [==============================] - 0s 30us/step - loss: 179.0664\n",
            "Epoch 40/100\n",
            "721/721 [==============================] - 0s 32us/step - loss: 176.0106\n",
            "Epoch 41/100\n",
            "721/721 [==============================] - 0s 34us/step - loss: 173.1934\n",
            "Epoch 42/100\n",
            "721/721 [==============================] - 0s 34us/step - loss: 170.4844\n",
            "Epoch 43/100\n",
            "721/721 [==============================] - 0s 32us/step - loss: 168.0870\n",
            "Epoch 44/100\n",
            "721/721 [==============================] - 0s 31us/step - loss: 165.7615\n",
            "Epoch 45/100\n",
            "721/721 [==============================] - 0s 29us/step - loss: 163.5938\n",
            "Epoch 46/100\n",
            "721/721 [==============================] - 0s 29us/step - loss: 161.5965\n",
            "Epoch 47/100\n",
            "721/721 [==============================] - 0s 30us/step - loss: 159.6344\n",
            "Epoch 48/100\n",
            "721/721 [==============================] - 0s 32us/step - loss: 157.7753\n",
            "Epoch 49/100\n",
            "721/721 [==============================] - 0s 31us/step - loss: 156.0804\n",
            "Epoch 50/100\n",
            "721/721 [==============================] - 0s 30us/step - loss: 154.3497\n",
            "Epoch 51/100\n",
            "721/721 [==============================] - 0s 31us/step - loss: 152.7185\n",
            "Epoch 52/100\n",
            "721/721 [==============================] - 0s 29us/step - loss: 151.1437\n",
            "Epoch 53/100\n",
            "721/721 [==============================] - 0s 32us/step - loss: 149.5047\n",
            "Epoch 54/100\n",
            "721/721 [==============================] - 0s 31us/step - loss: 147.8909\n",
            "Epoch 55/100\n",
            "721/721 [==============================] - 0s 35us/step - loss: 146.3236\n",
            "Epoch 56/100\n",
            "721/721 [==============================] - 0s 32us/step - loss: 144.7961\n",
            "Epoch 57/100\n",
            "721/721 [==============================] - 0s 31us/step - loss: 143.3255\n",
            "Epoch 58/100\n",
            "721/721 [==============================] - 0s 29us/step - loss: 141.7929\n",
            "Epoch 59/100\n",
            "721/721 [==============================] - 0s 29us/step - loss: 140.2629\n",
            "Epoch 60/100\n",
            "721/721 [==============================] - 0s 30us/step - loss: 138.8559\n",
            "Epoch 61/100\n",
            "721/721 [==============================] - 0s 29us/step - loss: 137.2821\n",
            "Epoch 62/100\n",
            "721/721 [==============================] - 0s 28us/step - loss: 136.0590\n",
            "Epoch 63/100\n",
            "721/721 [==============================] - 0s 29us/step - loss: 134.4317\n",
            "Epoch 64/100\n",
            "721/721 [==============================] - 0s 29us/step - loss: 132.9504\n",
            "Epoch 65/100\n",
            "721/721 [==============================] - 0s 35us/step - loss: 131.3761\n",
            "Epoch 66/100\n",
            "721/721 [==============================] - 0s 31us/step - loss: 129.9403\n",
            "Epoch 67/100\n",
            "721/721 [==============================] - 0s 29us/step - loss: 128.4938\n",
            "Epoch 68/100\n",
            "721/721 [==============================] - 0s 29us/step - loss: 126.8348\n",
            "Epoch 69/100\n",
            "721/721 [==============================] - 0s 30us/step - loss: 125.3518\n",
            "Epoch 70/100\n",
            "721/721 [==============================] - 0s 31us/step - loss: 123.7738\n",
            "Epoch 71/100\n",
            "721/721 [==============================] - 0s 29us/step - loss: 122.2767\n",
            "Epoch 72/100\n",
            "721/721 [==============================] - 0s 29us/step - loss: 120.9985\n",
            "Epoch 73/100\n",
            "721/721 [==============================] - 0s 37us/step - loss: 119.3887\n",
            "Epoch 74/100\n",
            "721/721 [==============================] - 0s 41us/step - loss: 117.9279\n",
            "Epoch 75/100\n",
            "721/721 [==============================] - 0s 35us/step - loss: 116.3421\n",
            "Epoch 76/100\n",
            "721/721 [==============================] - 0s 30us/step - loss: 114.8736\n",
            "Epoch 77/100\n",
            "721/721 [==============================] - 0s 31us/step - loss: 113.4221\n",
            "Epoch 78/100\n",
            "721/721 [==============================] - 0s 32us/step - loss: 111.8360\n",
            "Epoch 79/100\n",
            "721/721 [==============================] - 0s 31us/step - loss: 110.6332\n",
            "Epoch 80/100\n",
            "721/721 [==============================] - 0s 32us/step - loss: 108.9070\n",
            "Epoch 81/100\n",
            "721/721 [==============================] - 0s 31us/step - loss: 107.5180\n",
            "Epoch 82/100\n",
            "721/721 [==============================] - 0s 32us/step - loss: 106.0655\n",
            "Epoch 83/100\n",
            "721/721 [==============================] - 0s 31us/step - loss: 104.7045\n",
            "Epoch 84/100\n",
            "721/721 [==============================] - 0s 31us/step - loss: 103.3311\n",
            "Epoch 85/100\n",
            "721/721 [==============================] - 0s 33us/step - loss: 102.0044\n",
            "Epoch 86/100\n",
            "721/721 [==============================] - 0s 30us/step - loss: 100.6306\n",
            "Epoch 87/100\n",
            "721/721 [==============================] - 0s 30us/step - loss: 99.1969\n",
            "Epoch 88/100\n",
            "721/721 [==============================] - 0s 31us/step - loss: 97.9871\n",
            "Epoch 89/100\n",
            "721/721 [==============================] - 0s 31us/step - loss: 96.6392\n",
            "Epoch 90/100\n",
            "721/721 [==============================] - 0s 31us/step - loss: 95.4196\n",
            "Epoch 91/100\n",
            "721/721 [==============================] - 0s 30us/step - loss: 94.1158\n",
            "Epoch 92/100\n",
            "721/721 [==============================] - 0s 29us/step - loss: 92.9520\n",
            "Epoch 93/100\n",
            "721/721 [==============================] - 0s 29us/step - loss: 91.8113\n",
            "Epoch 94/100\n",
            "721/721 [==============================] - 0s 28us/step - loss: 90.6461\n",
            "Epoch 95/100\n",
            "721/721 [==============================] - 0s 34us/step - loss: 89.3469\n",
            "Epoch 96/100\n",
            "721/721 [==============================] - 0s 31us/step - loss: 88.2385\n",
            "Epoch 97/100\n",
            "721/721 [==============================] - 0s 31us/step - loss: 87.1902\n",
            "Epoch 98/100\n",
            "721/721 [==============================] - 0s 30us/step - loss: 85.9742\n",
            "Epoch 99/100\n",
            "721/721 [==============================] - 0s 32us/step - loss: 84.9973\n",
            "Epoch 100/100\n",
            "721/721 [==============================] - 0s 36us/step - loss: 83.9169\n"
          ],
          "name": "stdout"
        },
        {
          "output_type": "execute_result",
          "data": {
            "text/plain": [
              "<keras.callbacks.callbacks.History at 0x7fc34e2df4a8>"
            ]
          },
          "metadata": {
            "tags": []
          },
          "execution_count": 43
        }
      ]
    },
    {
      "cell_type": "markdown",
      "metadata": {
        "id": "amMMq4mgvtZu",
        "colab_type": "text"
      },
      "source": [
        "3. Evaluate the model on the test data and compute the mean squared error between the predicted concrete strength and the actual concrete strength. You can use the mean_squared_error function from Scikit-learn."
      ]
    },
    {
      "cell_type": "code",
      "metadata": {
        "id": "BOAa0OrYxQ1P",
        "colab_type": "code",
        "colab": {
          "base_uri": "https://localhost:8080/",
          "height": 50
        },
        "outputId": "0f30cc99-3e2b-4abe-8a1e-9c3706cc8272"
      },
      "source": [
        "MSE = model.evaluate(x_test,y_test)\n",
        "MSE"
      ],
      "execution_count": 49,
      "outputs": [
        {
          "output_type": "stream",
          "text": [
            "309/309 [==============================] - 0s 36us/step\n"
          ],
          "name": "stdout"
        },
        {
          "output_type": "execute_result",
          "data": {
            "text/plain": [
              "81.28364158062487"
            ]
          },
          "metadata": {
            "tags": []
          },
          "execution_count": 49
        }
      ]
    },
    {
      "cell_type": "code",
      "metadata": {
        "id": "R1XX-ncJufAv",
        "colab_type": "code",
        "colab": {}
      },
      "source": [
        "from sklearn.metrics import mean_squared_error\n",
        "ypred = model.predict(x_test)\n",
        "mse = mean_squared_error(y_test,ypred)\n",
        "mean_mse = np.mean(mse)\n",
        "std_mse = np.std(mse)\n"
      ],
      "execution_count": 45,
      "outputs": []
    },
    {
      "cell_type": "code",
      "metadata": {
        "id": "B2ByWVIRwLXC",
        "colab_type": "code",
        "colab": {
          "base_uri": "https://localhost:8080/",
          "height": 50
        },
        "outputId": "b8071fc8-7f5d-46cb-c176-94fc33ba4297"
      },
      "source": [
        "print(\"mean : \"+str(mean_mse) + \"\\nStandar deviasi : \"+str(std_mse))"
      ],
      "execution_count": 46,
      "outputs": [
        {
          "output_type": "stream",
          "text": [
            "mean : 86.8977276426445\n",
            "Standar deviasi : 0.0\n"
          ],
          "name": "stdout"
        }
      ]
    },
    {
      "cell_type": "markdown",
      "metadata": {
        "id": "7X5eCghLwmn0",
        "colab_type": "text"
      },
      "source": [
        "4. Repeat steps 1 - 3, 50 times, i.e., create a list of 50 mean squared errors"
      ]
    },
    {
      "cell_type": "code",
      "metadata": {
        "id": "2vg37h2bwdu4",
        "colab_type": "code",
        "colab": {
          "base_uri": "https://localhost:8080/",
          "height": 1000
        },
        "outputId": "452b0ff4-979a-4a52-d85c-0489f7875eb3"
      },
      "source": [
        "total_mse = 50\n",
        "list_mse = []\n",
        "for i in range(0,total_mse):\n",
        "  x_train, x_test, y_train,y_test = train_test_split(predictors_norm,target, test_size=0.3, random_state=20)\n",
        "  model = regression_model()\n",
        "  model.fit(x_train, y_train, epochs=100, verbose=0)\n",
        "  MSE_model = model.evaluate(x_test,y_test)\n",
        "  print(\"MSE \"+str(i+1)+ \" is \"+str(MSE_model))\n",
        "  ypred = model.predict(x_test)\n",
        "  mse = mean_squared_error(y_test,ypred)\n",
        "  list_mse.append(mse)\n"
      ],
      "execution_count": 47,
      "outputs": [
        {
          "output_type": "stream",
          "text": [
            "309/309 [==============================] - 0s 52us/step\n",
            "MSE 1 is 88.91293206569833\n",
            "309/309 [==============================] - 0s 53us/step\n",
            "MSE 2 is 89.12657600081855\n",
            "309/309 [==============================] - 0s 53us/step\n",
            "MSE 3 is 83.71411345151635\n",
            "309/309 [==============================] - 0s 46us/step\n",
            "MSE 4 is 86.51198249495917\n",
            "309/309 [==============================] - 0s 46us/step\n",
            "MSE 5 is 89.14940193941678\n",
            "309/309 [==============================] - 0s 52us/step\n",
            "MSE 6 is 87.23998981463485\n",
            "309/309 [==============================] - 0s 60us/step\n",
            "MSE 7 is 84.8385781593693\n",
            "309/309 [==============================] - 0s 54us/step\n",
            "MSE 8 is 81.78149493072411\n",
            "309/309 [==============================] - 0s 47us/step\n",
            "MSE 9 is 84.21690734073182\n",
            "309/309 [==============================] - 0s 51us/step\n",
            "MSE 10 is 86.27521364279936\n",
            "309/309 [==============================] - 0s 55us/step\n",
            "MSE 11 is 79.0783374132076\n",
            "309/309 [==============================] - 0s 56us/step\n",
            "MSE 12 is 80.84520059727542\n",
            "309/309 [==============================] - 0s 55us/step\n",
            "MSE 13 is 80.92054126332107\n",
            "309/309 [==============================] - 0s 57us/step\n",
            "MSE 14 is 88.3952084390091\n",
            "309/309 [==============================] - 0s 46us/step\n",
            "MSE 15 is 87.77334068816842\n",
            "309/309 [==============================] - 0s 57us/step\n",
            "MSE 16 is 79.43150112312588\n",
            "309/309 [==============================] - 0s 52us/step\n",
            "MSE 17 is 83.73861686928758\n",
            "309/309 [==============================] - 0s 60us/step\n",
            "MSE 18 is 87.39714934216349\n",
            "309/309 [==============================] - 0s 56us/step\n",
            "MSE 19 is 81.93705164344566\n",
            "309/309 [==============================] - 0s 53us/step\n",
            "MSE 20 is 87.55720470638337\n",
            "309/309 [==============================] - 0s 53us/step\n",
            "MSE 21 is 84.73211205738647\n",
            "309/309 [==============================] - 0s 54us/step\n",
            "MSE 22 is 78.76136947681218\n",
            "309/309 [==============================] - 0s 53us/step\n",
            "MSE 23 is 86.99633221178765\n",
            "309/309 [==============================] - 0s 53us/step\n",
            "MSE 24 is 85.95569420478105\n",
            "309/309 [==============================] - 0s 52us/step\n",
            "MSE 25 is 86.17865348248034\n",
            "309/309 [==============================] - 0s 47us/step\n",
            "MSE 26 is 93.6668473524569\n",
            "309/309 [==============================] - 0s 54us/step\n",
            "MSE 27 is 83.5471963234318\n",
            "309/309 [==============================] - 0s 52us/step\n",
            "MSE 28 is 83.48222059725173\n",
            "309/309 [==============================] - 0s 52us/step\n",
            "MSE 29 is 81.75480004961823\n",
            "309/309 [==============================] - 0s 54us/step\n",
            "MSE 30 is 84.8315368701725\n",
            "309/309 [==============================] - 0s 75us/step\n",
            "MSE 31 is 79.60379455467644\n",
            "309/309 [==============================] - 0s 52us/step\n",
            "MSE 32 is 87.02511243604148\n",
            "309/309 [==============================] - 0s 51us/step\n",
            "MSE 33 is 89.03006425876062\n",
            "309/309 [==============================] - 0s 54us/step\n",
            "MSE 34 is 82.31069294457296\n",
            "309/309 [==============================] - 0s 48us/step\n",
            "MSE 35 is 84.37249955853213\n",
            "309/309 [==============================] - 0s 48us/step\n",
            "MSE 36 is 78.2874062794312\n",
            "309/309 [==============================] - 0s 52us/step\n",
            "MSE 37 is 85.72480850466633\n",
            "309/309 [==============================] - 0s 49us/step\n",
            "MSE 38 is 88.94206610620986\n",
            "309/309 [==============================] - 0s 56us/step\n",
            "MSE 39 is 86.5432304950208\n",
            "309/309 [==============================] - 0s 49us/step\n",
            "MSE 40 is 80.48867965747624\n",
            "309/309 [==============================] - 0s 53us/step\n",
            "MSE 41 is 89.33331261792229\n",
            "309/309 [==============================] - 0s 54us/step\n",
            "MSE 42 is 87.1504205253132\n",
            "309/309 [==============================] - 0s 49us/step\n",
            "MSE 43 is 85.49964870218321\n",
            "309/309 [==============================] - 0s 54us/step\n",
            "MSE 44 is 85.15519919287425\n",
            "309/309 [==============================] - 0s 54us/step\n",
            "MSE 45 is 81.8421499011586\n",
            "309/309 [==============================] - 0s 55us/step\n",
            "MSE 46 is 79.95307290283993\n",
            "309/309 [==============================] - 0s 52us/step\n",
            "MSE 47 is 90.00571957683871\n",
            "309/309 [==============================] - 0s 54us/step\n",
            "MSE 48 is 89.46396765353995\n",
            "309/309 [==============================] - 0s 53us/step\n",
            "MSE 49 is 94.91741654479388\n",
            "309/309 [==============================] - 0s 53us/step\n",
            "MSE 50 is 81.28364158062487\n"
          ],
          "name": "stdout"
        }
      ]
    },
    {
      "cell_type": "markdown",
      "metadata": {
        "id": "wvGkiOF1zhnv",
        "colab_type": "text"
      },
      "source": [
        "5. Report the mean and the standard deviation of the mean squared errors."
      ]
    },
    {
      "cell_type": "code",
      "metadata": {
        "id": "N_m1b4PlyuRH",
        "colab_type": "code",
        "colab": {
          "base_uri": "https://localhost:8080/",
          "height": 50
        },
        "outputId": "6ca07e62-a3df-42f5-9b50-b1a0dae40f68"
      },
      "source": [
        "list_mse = np.array(list_mse)\n",
        "total_mean = np.mean(list_mse)\n",
        "total_std = np.std(list_mse)\n",
        "print(\"Mean : \"+str(total_mean))\n",
        "print(\"Standar devisi : \"+str(total_std))"
      ],
      "execution_count": 48,
      "outputs": [
        {
          "output_type": "stream",
          "text": [
            "Mean : 85.11361820067688\n",
            "Standar devisi : 3.7564145164950777\n"
          ],
          "name": "stdout"
        }
      ]
    },
    {
      "cell_type": "code",
      "metadata": {
        "id": "j5NrIotp0za9",
        "colab_type": "code",
        "colab": {}
      },
      "source": [
        ""
      ],
      "execution_count": 48,
      "outputs": []
    }
  ]
}